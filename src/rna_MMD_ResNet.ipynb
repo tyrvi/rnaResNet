{
 "cells": [
  {
   "cell_type": "markdown",
   "metadata": {},
   "source": [
    "## MMD ResNet for RNA data\n",
    "\n",
    "Use GTEX as source and TCGA as target since there are 2445 GTEX samples and only 683 TCGA samples"
   ]
  },
  {
   "cell_type": "markdown",
   "metadata": {},
   "source": [
    "### Imports"
   ]
  },
  {
   "cell_type": "code",
   "execution_count": 25,
   "metadata": {},
   "outputs": [],
   "source": [
    "import os.path\n",
    "import keras.optimizers\n",
    "from Calibration_Util import DataHandler as dh \n",
    "from Calibration_Util import FileIO as io\n",
    "from keras.layers import Input, Dense, merge, Activation, add\n",
    "from keras.models import Model\n",
    "from keras import callbacks as cb\n",
    "import numpy as np\n",
    "import matplotlib\n",
    "from keras.layers.normalization import BatchNormalization\n",
    "#detect display\n",
    "import os\n",
    "havedisplay = \"DISPLAY\" in os.environ\n",
    "#if we have a display use a plotting backend\n",
    "if havedisplay:\n",
    "    matplotlib.use('TkAgg')\n",
    "else:\n",
    "    matplotlib.use('Agg')\n",
    "\n",
    "import CostFunctions as cf\n",
    "import Monitoring as mn\n",
    "from keras.regularizers import l2\n",
    "from sklearn import decomposition\n",
    "from keras.callbacks import LearningRateScheduler\n",
    "import math\n",
    "import ScatterHist as sh\n",
    "from keras import initializers\n",
    "from numpy import genfromtxt\n",
    "import sklearn.preprocessing as prep\n",
    "import tensorflow as tf\n",
    "import keras.backend as K"
   ]
  },
  {
   "cell_type": "markdown",
   "metadata": {},
   "source": [
    "### Configure hyperparameters"
   ]
  },
  {
   "cell_type": "code",
   "execution_count": 26,
   "metadata": {},
   "outputs": [],
   "source": [
    "mmdNetLayerSizes = [25, 25]\n",
    "l2_penalty = 1e-2"
   ]
  },
  {
   "cell_type": "markdown",
   "metadata": {},
   "source": [
    "### Load Data"
   ]
  },
  {
   "cell_type": "code",
   "execution_count": 27,
   "metadata": {},
   "outputs": [],
   "source": [
    "sourcePath = os.path.join(io.DeepLearningRoot(), 'data/gtex_batch2.csv')\n",
    "targetPath = os.path.join(io.DeepLearningRoot(), 'data/tcga_batch1.csv')"
   ]
  },
  {
   "cell_type": "code",
   "execution_count": 35,
   "metadata": {},
   "outputs": [
    {
     "name": "stdout",
     "output_type": "stream",
     "text": [
      "[ -1.42110630e+06  -8.09105294e+05  -2.21625642e+05  -2.70976409e+04\n",
      "   2.25280928e+04  -1.01543954e+03  -1.26163436e+05   1.98825592e+05\n",
      "   2.67028862e+03   3.03464358e+05  -1.89857558e+05  -1.11616625e+05\n",
      "   7.40879854e+03   2.52422265e+04   1.72237275e+04  -1.12197097e+05\n",
      "  -8.11428970e+03   1.10057459e+05   4.30845564e+04  -2.88909674e+04\n",
      "   6.35710050e+04   6.68471965e+04   4.49351975e+04   3.38918520e+04\n",
      "   1.13327467e+04]\n"
     ]
    },
    {
     "data": {
      "text/plain": [
       "(2445, 25)"
      ]
     },
     "execution_count": 35,
     "metadata": {},
     "output_type": "execute_result"
    }
   ],
   "source": [
    "source = genfromtxt(sourcePath, delimiter=',', skip_header=1)\n",
    "print(source[1,:])\n",
    "source.shape"
   ]
  },
  {
   "cell_type": "code",
   "execution_count": 29,
   "metadata": {},
   "outputs": [
    {
     "data": {
      "text/plain": [
       "(683, 25)"
      ]
     },
     "execution_count": 29,
     "metadata": {},
     "output_type": "execute_result"
    }
   ],
   "source": [
    "target = genfromtxt(targetPath, delimiter=',', skip_header=1)\n",
    "inputDim = target.shape[1]\n",
    "target.shape"
   ]
  },
  {
   "cell_type": "markdown",
   "metadata": {},
   "source": [
    "### Build MMD Net"
   ]
  },
  {
   "cell_type": "code",
   "execution_count": 30,
   "metadata": {},
   "outputs": [],
   "source": [
    "# input\n",
    "calibInput = Input(shape=(inputDim, ))\n",
    "\n",
    "# block 1\n",
    "block1_bn1 = BatchNormalization()(calibInput)\n",
    "block1_a1 = Activation('relu')(block1_bn1)\n",
    "block1_w1 = Dense(mmdNetLayerSizes[1], activation='linear', kernel_regularizer=l2(l2_penalty), \n",
    "                  kernel_initializer=initializers.RandomNormal(stddev=1e-4))(block1_a1)\n",
    "block1_bn2 = BatchNormalization()(block1_w1)\n",
    "block1_a2 = Activation('relu')(block1_bn2)\n",
    "block1_w2 = Dense(mmdNetLayerSizes[0], activation='linear', kernel_regularizer=l2(l2_penalty), \n",
    "                  kernel_initializer=initializers.RandomNormal(stddev=1e-4))(block1_a2)\n",
    "block1_output = add([block1_w2, calibInput])\n",
    "\n",
    "# block 2\n",
    "block2_bn1 = BatchNormalization()(block1_output)\n",
    "block2_a1 = Activation('relu')(block2_bn1)\n",
    "block2_w1 = Dense(mmdNetLayerSizes[1], activation='linear', kernel_regularizer=l2(l2_penalty), \n",
    "                  kernel_initializer=initializers.RandomNormal(stddev=1e-4))(block2_a1)\n",
    "block2_bn2 = BatchNormalization()(block1_w1)\n",
    "block2_a2 = Activation('relu')(block2_bn2)\n",
    "block2_w2 = Dense(mmdNetLayerSizes[0], activation='linear', kernel_regularizer=l2(l2_penalty), \n",
    "                  kernel_initializer=initializers.RandomNormal(stddev=1e-4))(block2_a2)\n",
    "block2_output = add([block2_w2, calibInput])\n",
    "\n",
    "# block 3\n",
    "block3_bn1 = BatchNormalization()(block2_output)\n",
    "block3_a1 = Activation('relu')(block3_bn1)\n",
    "block3_w1 = Dense(mmdNetLayerSizes[1], activation='linear', kernel_regularizer=l2(l2_penalty), \n",
    "                  kernel_initializer=initializers.RandomNormal(stddev=1e-4))(block3_a1)\n",
    "block3_bn2 = BatchNormalization()(block3_w1)\n",
    "block3_a2 = Activation('relu')(block3_bn2)\n",
    "block3_w2 = Dense(mmdNetLayerSizes[0], activation='linear', kernel_regularizer=l2(l2_penalty), \n",
    "                  kernel_initializer=initializers.RandomNormal(stddev=1e-4))(block3_a2)\n",
    "block3_output = add([block3_w2, calibInput])\n",
    "\n",
    "calibMMDNet = Model(inputs=calibInput, outputs=block2_output)"
   ]
  },
  {
   "cell_type": "markdown",
   "metadata": {},
   "source": [
    "### Prepare for Training"
   ]
  },
  {
   "cell_type": "code",
   "execution_count": 37,
   "metadata": {},
   "outputs": [
    {
     "name": "stdout",
     "output_type": "stream",
     "text": [
      "setting scales using KNN\n",
      "[190086.77546116279, 380173.55092232558, 760347.10184465116]\n",
      "setting all scale weights to 1\n"
     ]
    }
   ],
   "source": [
    "def step_decay(epoch):\n",
    "    initial_lrate = 0.001\n",
    "    drop = 0.1\n",
    "    epochs_drop = 150.0\n",
    "    lrate = initial_lrate * math.pow(drop, math.floor((1+epoch)/epochs_drop))\n",
    "    return lrate\n",
    "\n",
    "lrate = LearningRateScheduler(step_decay)\n",
    "\n",
    "optimizer = keras.optimizers.rmsprop(lr=0.0)\n",
    "\n",
    "calibMMDNet.compile(optimizer=optimizer, \n",
    "                    loss=lambda y_true,y_pred: \n",
    "                       cf.MMD(block2_output,target,MMDTargetValidation_split=0.1).KerasCost(y_true,y_pred)\n",
    "                   )\n",
    "K.get_session().run(tf.global_variables_initializer())\n",
    "\n",
    "sourceLabels = np.zeros(source.shape[0])"
   ]
  },
  {
   "cell_type": "markdown",
   "metadata": {},
   "source": [
    "### Train"
   ]
  },
  {
   "cell_type": "code",
   "execution_count": 32,
   "metadata": {},
   "outputs": [
    {
     "name": "stderr",
     "output_type": "stream",
     "text": [
      "/home/ubuntu/anaconda3/envs/tensorflow_p36/lib/python3.6/site-packages/ipykernel/__main__.py:3: UserWarning: The `nb_epoch` argument in `fit` has been renamed `epochs`.\n",
      "  app.launch_new_instance()\n"
     ]
    },
    {
     "name": "stdout",
     "output_type": "stream",
     "text": [
      "Train on 2200 samples, validate on 245 samples\n",
      "Epoch 1/500\n",
      "2200/2200 [==============================] - 1s 675us/step - loss: 0.6258 - val_loss: 1.0145\n",
      "Epoch 2/500\n",
      "2200/2200 [==============================] - 1s 306us/step - loss: 0.6244 - val_loss: 1.0146\n",
      "Epoch 3/500\n",
      "2200/2200 [==============================] - 1s 287us/step - loss: 0.6236 - val_loss: 1.0148\n",
      "Epoch 4/500\n",
      "2200/2200 [==============================] - 1s 305us/step - loss: 0.6228 - val_loss: 1.0148\n",
      "Epoch 5/500\n",
      "2200/2200 [==============================] - 1s 306us/step - loss: 0.6222 - val_loss: 1.0147\n",
      "Epoch 6/500\n",
      "2200/2200 [==============================] - 1s 307us/step - loss: 0.6236 - val_loss: 1.0148\n",
      "Epoch 7/500\n",
      "2200/2200 [==============================] - 1s 305us/step - loss: 0.6235 - val_loss: 1.0148\n",
      "Epoch 8/500\n",
      "2200/2200 [==============================] - 1s 306us/step - loss: 0.6247 - val_loss: 1.0148\n",
      "Epoch 9/500\n",
      "2200/2200 [==============================] - 1s 307us/step - loss: 0.6252 - val_loss: 1.0148\n",
      "Epoch 10/500\n",
      "2200/2200 [==============================] - 1s 311us/step - loss: 0.6245 - val_loss: 1.0148\n",
      "Epoch 11/500\n",
      "2200/2200 [==============================] - 1s 305us/step - loss: 0.6200 - val_loss: 1.0148\n",
      "Epoch 12/500\n",
      "2200/2200 [==============================] - 1s 292us/step - loss: 0.6230 - val_loss: 1.0148\n",
      "Epoch 13/500\n",
      "2200/2200 [==============================] - 1s 308us/step - loss: 0.6237 - val_loss: 1.0148\n",
      "Epoch 14/500\n",
      "2200/2200 [==============================] - 1s 290us/step - loss: 0.6212 - val_loss: 1.0148\n",
      "Epoch 15/500\n",
      "2200/2200 [==============================] - 1s 287us/step - loss: 0.6238 - val_loss: 1.0148\n",
      "Epoch 16/500\n",
      "2200/2200 [==============================] - 1s 291us/step - loss: 0.6250 - val_loss: 1.0148\n",
      "Epoch 17/500\n",
      "2200/2200 [==============================] - 1s 305us/step - loss: 0.6238 - val_loss: 1.0148\n",
      "Epoch 18/500\n",
      "2200/2200 [==============================] - 1s 309us/step - loss: 0.6219 - val_loss: 1.0148\n",
      "Epoch 19/500\n",
      "2200/2200 [==============================] - 1s 305us/step - loss: 0.6222 - val_loss: 1.0148\n",
      "Epoch 20/500\n",
      "2200/2200 [==============================] - 1s 316us/step - loss: 0.6242 - val_loss: 1.0148\n",
      "Epoch 21/500\n",
      "2200/2200 [==============================] - 1s 308us/step - loss: 0.6231 - val_loss: 1.0148\n",
      "Epoch 22/500\n",
      "2200/2200 [==============================] - 1s 307us/step - loss: 0.6231 - val_loss: 1.0148\n",
      "Epoch 23/500\n",
      "2200/2200 [==============================] - 1s 293us/step - loss: 0.6266 - val_loss: 1.0148\n",
      "Epoch 24/500\n",
      "2200/2200 [==============================] - 1s 291us/step - loss: 0.6234 - val_loss: 1.0148\n",
      "Epoch 25/500\n",
      "2200/2200 [==============================] - 1s 301us/step - loss: 0.6226 - val_loss: 1.0148\n",
      "Epoch 26/500\n",
      "2200/2200 [==============================] - 1s 308us/step - loss: 0.6216 - val_loss: 1.0148\n",
      "Epoch 27/500\n",
      "2200/2200 [==============================] - 1s 306us/step - loss: 0.6238 - val_loss: 1.0148\n",
      "Epoch 28/500\n",
      "2200/2200 [==============================] - 1s 291us/step - loss: 0.6252 - val_loss: 1.0148\n",
      "Epoch 29/500\n",
      "2200/2200 [==============================] - 1s 288us/step - loss: 0.6234 - val_loss: 1.0148\n",
      "Epoch 30/500\n",
      "2200/2200 [==============================] - 1s 304us/step - loss: 0.6259 - val_loss: 1.0148\n",
      "Epoch 31/500\n",
      "2200/2200 [==============================] - 1s 307us/step - loss: 0.6220 - val_loss: 1.0147\n",
      "Epoch 32/500\n",
      "2200/2200 [==============================] - 1s 288us/step - loss: 0.6255 - val_loss: 1.0147\n",
      "Epoch 33/500\n",
      "2200/2200 [==============================] - 1s 304us/step - loss: 0.6233 - val_loss: 1.0147\n",
      "Epoch 34/500\n",
      "2200/2200 [==============================] - 1s 290us/step - loss: 0.6222 - val_loss: 1.0147\n",
      "Epoch 35/500\n",
      "2200/2200 [==============================] - 1s 304us/step - loss: 0.6228 - val_loss: 1.0147\n",
      "Epoch 36/500\n",
      "2200/2200 [==============================] - 1s 305us/step - loss: 0.6236 - val_loss: 1.0147\n",
      "Epoch 37/500\n",
      "2200/2200 [==============================] - 1s 308us/step - loss: 0.6235 - val_loss: 1.0147\n",
      "Epoch 38/500\n",
      "2200/2200 [==============================] - 1s 302us/step - loss: 0.6227 - val_loss: 1.0147\n",
      "Epoch 39/500\n",
      "2200/2200 [==============================] - 1s 304us/step - loss: 0.6246 - val_loss: 1.0147\n",
      "Epoch 40/500\n",
      "2200/2200 [==============================] - 1s 297us/step - loss: 0.6236 - val_loss: 1.0147\n",
      "Epoch 41/500\n",
      "2200/2200 [==============================] - 1s 312us/step - loss: 0.6253 - val_loss: 1.0147\n",
      "Epoch 42/500\n",
      "2200/2200 [==============================] - 1s 306us/step - loss: 0.6224 - val_loss: 1.0147\n",
      "Epoch 43/500\n",
      "2200/2200 [==============================] - 1s 289us/step - loss: 0.6252 - val_loss: 1.0147\n",
      "Epoch 44/500\n",
      "2200/2200 [==============================] - 1s 287us/step - loss: 0.6237 - val_loss: 1.0147\n",
      "Epoch 45/500\n",
      "2200/2200 [==============================] - 1s 306us/step - loss: 0.6245 - val_loss: 1.0147\n",
      "Epoch 46/500\n",
      "2200/2200 [==============================] - 1s 304us/step - loss: 0.6248 - val_loss: 1.0147\n",
      "Epoch 47/500\n",
      "2200/2200 [==============================] - 1s 361us/step - loss: 0.6238 - val_loss: 1.0147\n",
      "Epoch 48/500\n",
      "2200/2200 [==============================] - 1s 308us/step - loss: 0.6216 - val_loss: 1.0147\n",
      "Epoch 49/500\n",
      "2200/2200 [==============================] - 1s 310us/step - loss: 0.6228 - val_loss: 1.0147\n",
      "Epoch 50/500\n",
      "2200/2200 [==============================] - 1s 296us/step - loss: 0.6230 - val_loss: 1.0147\n",
      "Epoch 51/500\n",
      "2200/2200 [==============================] - 1s 291us/step - loss: 0.6252 - val_loss: 1.0147\n"
     ]
    },
    {
     "data": {
      "text/plain": [
       "<keras.callbacks.History at 0x7f2779ab9a90>"
      ]
     },
     "execution_count": 32,
     "metadata": {},
     "output_type": "execute_result"
    }
   ],
   "source": [
    "calibMMDNet.fit(source, sourceLabels, nb_epoch=500 ,batch_size=100, validation_split=0.1, verbose=1,\n",
    "               callbacks=[lrate, mn.monitorMMD(source, target, calibMMDNet.predict),\n",
    "                          cb.EarlyStopping(monitor='val_loss',patience=50,mode='auto')]\n",
    "               )"
   ]
  },
  {
   "cell_type": "markdown",
   "metadata": {},
   "source": [
    "### Evaluate Results"
   ]
  },
  {
   "cell_type": "code",
   "execution_count": 33,
   "metadata": {},
   "outputs": [
    {
     "data": {
      "image/png": "[encoded data removed]",
      "text/plain": [
       "<matplotlib.figure.Figure at 0x7f2778eff048>"
      ]
     },
     "metadata": {},
     "output_type": "display_data"
    },
    {
     "data": {
      "image/png": "[encoded data removed]",
      "text/plain": [
       "<matplotlib.figure.Figure at 0x7f27721436a0>"
      ]
     },
     "metadata": {},
     "output_type": "display_data"
    }
   ],
   "source": [
    "%matplotlib inline\n",
    "calibratedSource = calibMMDNet.predict(source)\n",
    "\n",
    "##################################### qualitative evaluation: PCA #####################################\n",
    "pca = decomposition.PCA()\n",
    "pca.fit(target)\n",
    "\n",
    "# project data onto PCs\n",
    "target_sample_pca = pca.transform(target)\n",
    "projection_before = pca.transform(source)\n",
    "projection_after = pca.transform(calibratedSource)\n",
    "\n",
    "# choose PCs to plot\n",
    "pc1 = 0\n",
    "pc2 = 1\n",
    "axis1 = 'PC'+str(pc1)\n",
    "axis2 = 'PC'+str(pc2)\n",
    "sh.scatterHist(target_sample_pca[:,pc1], target_sample_pca[:,pc2], projection_before[:,pc1], \n",
    "               projection_before[:,pc2], axis1, axis2)\n",
    "sh.scatterHist(target_sample_pca[:,pc1], target_sample_pca[:,pc2], projection_after[:,pc1], \n",
    "               projection_after[:,pc2], axis1, axis2)"
   ]
  }
 ],
 "metadata": {
  "kernelspec": {
   "display_name": "Environment (conda_tensorflow_p36)",
   "language": "python",
   "name": "conda_tensorflow_p36"
  },
  "language_info": {
   "codemirror_mode": {
    "name": "ipython",
    "version": 3
   },
   "file_extension": ".py",
   "mimetype": "text/x-python",
   "name": "python",
   "nbconvert_exporter": "python",
   "pygments_lexer": "ipython3",
   "version": "3.6.3"
  }
 },
 "nbformat": 4,
 "nbformat_minor": 2
}
