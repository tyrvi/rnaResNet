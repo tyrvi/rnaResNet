{
 "cells": [
  {
   "cell_type": "code",
   "execution_count": 1,
   "metadata": {
    "scrolled": true
   },
   "outputs": [
    {
     "name": "stderr",
     "output_type": "stream",
     "text": [
      "Using TensorFlow backend.\n",
      "/home/ubuntu/anaconda3/envs/tensorflow_p36/lib/python3.6/importlib/_bootstrap.py:219: RuntimeWarning: compiletime version 3.5 of module 'tensorflow.python.framework.fast_tensor_util' does not match runtime version 3.6\n",
      "  return f(*args, **kwds)\n",
      "/home/ubuntu/anaconda3/envs/tensorflow_p36/lib/python3.6/site-packages/sklearn/cross_validation.py:41: DeprecationWarning: This module was deprecated in version 0.18 in favor of the model_selection module into which all the refactored classes and functions are moved. Also note that the interface of the new CV iterators are different from that of this module. This module will be removed in 0.20.\n",
      "  \"This module will be removed in 0.20.\", DeprecationWarning)\n",
      "/home/ubuntu/anaconda3/envs/tensorflow_p36/lib/python3.6/site-packages/ggplot/utils.py:81: FutureWarning: pandas.tslib is deprecated and will be removed in a future version.\n",
      "You can access Timestamp as pandas.Timestamp\n",
      "  pd.tslib.Timestamp,\n",
      "/home/ubuntu/anaconda3/envs/tensorflow_p36/lib/python3.6/site-packages/ggplot/stats/smoothers.py:4: FutureWarning: The pandas.lib module is deprecated and will be removed in a future version. These are private functions and can be accessed from pandas._libs.lib instead\n",
      "  from pandas.lib import Timestamp\n",
      "/home/ubuntu/anaconda3/envs/tensorflow_p36/lib/python3.6/site-packages/statsmodels/compat/pandas.py:56: FutureWarning: The pandas.core.datetools module is deprecated and will be removed in a future version. Please use the pandas.tseries module instead.\n",
      "  from pandas.core import datetools\n"
     ]
    }
   ],
   "source": [
    "from train_RNA_ResNet import ResNet\n",
    "from keras import callbacks as cb\n",
    "from Calibration_Util import FileIO as io\n",
    "import os\n",
    "import numpy as np"
   ]
  },
  {
   "cell_type": "code",
   "execution_count": 2,
   "metadata": {},
   "outputs": [],
   "source": [
    "rnaNet = ResNet()\n",
    "\n",
    "# GTEX as source and TCGA as target\n",
    "source_file = 'unnorm-log-20PC-GTEX-breast-prostate-thyroid.csv'\n",
    "target_file = 'unnorm-log-20PC-TCGA-breast-prostate-thyroid.csv'\n",
    "source_path = os.path.join(io.DeepLearningRoot(), 'data/unnorm/breast-prostate-thyroid/' + source_file)\n",
    "target_path = os.path.join(io.DeepLearningRoot(), 'data/unnorm/breast-prostate-thyroid/' + target_file)\n",
    "\n",
    "# Make GTEX target and TCGA source\n",
    "# target_file = 'unnorm-log-20PC-GTEX-breast-prostate-thyroid.csv'\n",
    "# source_file = 'unnorm-log-20PC-TCGA-breast-prostate-thyroid.csv'\n",
    "# source_path = os.path.join(io.DeepLearningRoot(), 'data/unnorm/' + source_file)\n",
    "# target_path = os.path.join(io.DeepLearningRoot(), 'data/unnorm/' + target_file)\n",
    "\n",
    "\n",
    "rnaNet.load_data(source_path=source_path,\n",
    "                target_path=target_path)"
   ]
  },
  {
   "cell_type": "code",
   "execution_count": 3,
   "metadata": {},
   "outputs": [
    {
     "name": "stdout",
     "output_type": "stream",
     "text": [
      "[[-1047.59361381   -69.12575067]\n",
      " [ -999.46290114   -48.39665354]\n",
      " [-1044.10734269   -78.82105825]\n",
      " [-1060.32625385   -69.96689896]]\n",
      "[[-1063.88655395   -92.71360174]\n",
      " [-1016.55539065   -76.95176009]\n",
      " [-1064.02777643   -84.89484393]\n",
      " [-1037.38639806   -88.54170399]]\n",
      "\n",
      "gtex = source shape = (636, 20)\n",
      "tcga = target shape = (211, 20)\n"
     ]
    }
   ],
   "source": [
    "print(rnaNet.source[0:4, 0:2])\n",
    "print(rnaNet.target[0:4, 0:2])\n",
    "print(\"\\ngtex = source shape = \" + str(rnaNet.source.shape))\n",
    "print(\"tcga = target shape = \" + str(rnaNet.target.shape))"
   ]
  },
  {
   "cell_type": "code",
   "execution_count": 4,
   "metadata": {},
   "outputs": [],
   "source": [
    "# breast = re.compile(r'.*breast.*')\n",
    "# prostate = re.compile(r'.*prostate.*')\n",
    "# thyroid = re.compile(r'.*thyroid.*')\n",
    "\n",
    "# ind = rnaNet.source_df.index\n",
    "\n",
    "# def f(s):\n",
    "#     if (re.search(breast, s)):\n",
    "#         return 'breast'\n",
    "#     elif (re.search(prostate, s)):\n",
    "#         return 'prostate'\n",
    "#     elif (re.search(thyroid, s)):\n",
    "#         return 'thyroid'\n",
    "    \n",
    "#     return None\n",
    "\n",
    "# [f(s) for s in ind]\n",
    "# rnaNet.source_df.loc[:, \"PC1\":\"PC20\"].values\n"
   ]
  },
  {
   "cell_type": "code",
   "execution_count": 5,
   "metadata": {},
   "outputs": [
    {
     "name": "stdout",
     "output_type": "stream",
     "text": [
      "setting scales using KNN\n",
      "[24.906372145133943, 49.812744290267887, 99.625488580535773]\n",
      "setting all scale weights to 1\n",
      "(636, 20)\n"
     ]
    }
   ],
   "source": [
    "rnaNet.init_res_net()"
   ]
  },
  {
   "cell_type": "code",
   "execution_count": 6,
   "metadata": {
    "scrolled": true
   },
   "outputs": [
    {
     "name": "stdout",
     "output_type": "stream",
     "text": [
      "Train on 572 samples, validate on 64 samples\n",
      "Epoch 1/100\n",
      "572/572 [==============================] - 1s 1ms/step - loss: 1.2468 - val_loss: 1.8596\n",
      "Epoch 2/100\n",
      "572/572 [==============================] - 0s 480us/step - loss: 1.1542 - val_loss: 1.7591\n",
      "Epoch 3/100\n",
      "572/572 [==============================] - 0s 473us/step - loss: 1.0937 - val_loss: 1.6777\n",
      "Epoch 4/100\n",
      "572/572 [==============================] - 0s 476us/step - loss: 1.0802 - val_loss: 1.5935\n",
      "Epoch 5/100\n",
      "572/572 [==============================] - 0s 479us/step - loss: 1.0511 - val_loss: 1.5089\n",
      "Epoch 6/100\n",
      "572/572 [==============================] - 0s 473us/step - loss: 1.0570 - val_loss: 1.6117\n",
      "Epoch 7/100\n",
      "572/572 [==============================] - 0s 472us/step - loss: 1.0299 - val_loss: 1.6979\n",
      "Epoch 8/100\n",
      "572/572 [==============================] - 0s 472us/step - loss: 1.0254 - val_loss: 1.6698\n",
      "Epoch 9/100\n",
      "572/572 [==============================] - 0s 474us/step - loss: 1.0274 - val_loss: 1.5245\n",
      "Epoch 10/100\n",
      "572/572 [==============================] - 0s 474us/step - loss: 1.0132 - val_loss: 1.5368\n",
      "Epoch 11/100\n",
      "572/572 [==============================] - 0s 475us/step - loss: 0.9935 - val_loss: 1.6812\n",
      "Epoch 12/100\n",
      "572/572 [==============================] - 0s 476us/step - loss: 1.0054 - val_loss: 1.6078\n",
      "Epoch 13/100\n",
      "572/572 [==============================] - 0s 471us/step - loss: 1.0378 - val_loss: 1.6790\n",
      "Epoch 14/100\n",
      "572/572 [==============================] - 0s 479us/step - loss: 1.0226 - val_loss: 1.5851\n",
      "Epoch 15/100\n",
      "572/572 [==============================] - 0s 474us/step - loss: 0.9924 - val_loss: 1.7332\n",
      "Epoch 16/100\n",
      "572/572 [==============================] - 0s 480us/step - loss: 1.0036 - val_loss: 1.8038\n",
      "Epoch 17/100\n",
      "572/572 [==============================] - 0s 475us/step - loss: 0.9966 - val_loss: 1.6306\n",
      "Epoch 18/100\n",
      "572/572 [==============================] - 0s 474us/step - loss: 0.9960 - val_loss: 1.5196\n",
      "Epoch 19/100\n",
      "572/572 [==============================] - 0s 477us/step - loss: 0.9985 - val_loss: 1.6361\n",
      "Epoch 20/100\n",
      "572/572 [==============================] - 0s 475us/step - loss: 1.0076 - val_loss: 1.5818\n",
      "Epoch 21/100\n",
      "572/572 [==============================] - 0s 476us/step - loss: 0.9902 - val_loss: 1.6275\n",
      "Epoch 22/100\n",
      "572/572 [==============================] - 0s 475us/step - loss: 1.0095 - val_loss: 1.6128\n",
      "Epoch 23/100\n",
      "572/572 [==============================] - 0s 472us/step - loss: 1.0085 - val_loss: 1.5577\n",
      "Epoch 24/100\n",
      "572/572 [==============================] - 0s 472us/step - loss: 0.9965 - val_loss: 1.7070\n",
      "Epoch 25/100\n",
      "572/572 [==============================] - 0s 475us/step - loss: 0.9865 - val_loss: 1.5049\n",
      "Epoch 26/100\n",
      "572/572 [==============================] - 0s 478us/step - loss: 0.9860 - val_loss: 1.5573\n",
      "Epoch 27/100\n",
      "572/572 [==============================] - 0s 483us/step - loss: 0.9955 - val_loss: 1.5046\n",
      "Epoch 28/100\n",
      "572/572 [==============================] - 0s 478us/step - loss: 0.9980 - val_loss: 1.5874\n",
      "Epoch 29/100\n",
      "572/572 [==============================] - 0s 476us/step - loss: 0.9895 - val_loss: 1.7122\n",
      "Epoch 30/100\n",
      "572/572 [==============================] - 0s 477us/step - loss: 0.9795 - val_loss: 1.6541\n",
      "Epoch 31/100\n",
      "572/572 [==============================] - 0s 477us/step - loss: 0.9907 - val_loss: 1.6703\n",
      "Epoch 32/100\n",
      "572/572 [==============================] - 0s 488us/step - loss: 0.9693 - val_loss: 1.5590\n",
      "Epoch 33/100\n",
      "572/572 [==============================] - 0s 477us/step - loss: 0.9767 - val_loss: 1.6154\n",
      "Epoch 34/100\n",
      "572/572 [==============================] - 0s 476us/step - loss: 0.9892 - val_loss: 1.6188\n",
      "Epoch 35/100\n",
      "572/572 [==============================] - 0s 476us/step - loss: 0.9692 - val_loss: 1.5347\n",
      "Epoch 36/100\n",
      "572/572 [==============================] - 0s 477us/step - loss: 0.9582 - val_loss: 1.6549\n",
      "Epoch 37/100\n",
      "572/572 [==============================] - 0s 476us/step - loss: 0.9494 - val_loss: 1.6087\n",
      "Epoch 38/100\n",
      "572/572 [==============================] - 0s 479us/step - loss: 0.9680 - val_loss: 1.6104\n",
      "Epoch 39/100\n",
      "572/572 [==============================] - 0s 483us/step - loss: 0.9699 - val_loss: 1.4812\n",
      "Epoch 40/100\n",
      "572/572 [==============================] - 0s 473us/step - loss: 0.9403 - val_loss: 1.7043\n",
      "Epoch 41/100\n",
      "572/572 [==============================] - 0s 479us/step - loss: 0.9562 - val_loss: 1.5403\n",
      "Epoch 42/100\n",
      "572/572 [==============================] - 0s 484us/step - loss: 0.9591 - val_loss: 1.4998\n",
      "Epoch 43/100\n",
      "572/572 [==============================] - 0s 481us/step - loss: 0.9665 - val_loss: 1.5268\n",
      "Epoch 44/100\n",
      "572/572 [==============================] - 0s 474us/step - loss: 0.9412 - val_loss: 1.5634\n",
      "Epoch 45/100\n",
      "572/572 [==============================] - 0s 478us/step - loss: 0.9533 - val_loss: 1.5551\n",
      "Epoch 46/100\n",
      "572/572 [==============================] - 0s 481us/step - loss: 0.9365 - val_loss: 1.4643\n",
      "Epoch 47/100\n",
      "572/572 [==============================] - 0s 477us/step - loss: 0.9541 - val_loss: 1.5217\n",
      "Epoch 48/100\n",
      "572/572 [==============================] - 0s 477us/step - loss: 0.9476 - val_loss: 1.5533\n",
      "Epoch 49/100\n",
      "572/572 [==============================] - 0s 479us/step - loss: 0.9499 - val_loss: 1.6240\n",
      "Epoch 50/100\n",
      "572/572 [==============================] - 0s 480us/step - loss: 0.9501 - val_loss: 1.6078\n",
      "Epoch 51/100\n",
      "572/572 [==============================] - 0s 482us/step - loss: 0.9480 - val_loss: 1.6037\n",
      "Epoch 52/100\n",
      "572/572 [==============================] - 0s 480us/step - loss: 0.9435 - val_loss: 1.5394\n",
      "Epoch 53/100\n",
      "572/572 [==============================] - 0s 481us/step - loss: 0.9486 - val_loss: 1.5487\n",
      "Epoch 54/100\n",
      "572/572 [==============================] - 0s 482us/step - loss: 0.9519 - val_loss: 1.5685\n",
      "Epoch 55/100\n",
      "572/572 [==============================] - 0s 479us/step - loss: 0.9445 - val_loss: 1.5280\n",
      "Epoch 56/100\n",
      "572/572 [==============================] - 0s 479us/step - loss: 0.9582 - val_loss: 1.5951\n",
      "Epoch 57/100\n",
      "572/572 [==============================] - 0s 478us/step - loss: 0.9444 - val_loss: 1.6407\n",
      "Epoch 58/100\n",
      "572/572 [==============================] - 0s 475us/step - loss: 0.9468 - val_loss: 1.4624\n",
      "Epoch 59/100\n",
      "572/572 [==============================] - 0s 479us/step - loss: 0.9408 - val_loss: 1.5392\n",
      "Epoch 60/100\n",
      "572/572 [==============================] - 0s 480us/step - loss: 0.9341 - val_loss: 1.5249\n",
      "Epoch 61/100\n",
      "572/572 [==============================] - 0s 479us/step - loss: 0.9290 - val_loss: 1.5631\n",
      "Epoch 62/100\n",
      "572/572 [==============================] - 0s 480us/step - loss: 0.9429 - val_loss: 1.5974\n",
      "Epoch 63/100\n",
      "572/572 [==============================] - 0s 475us/step - loss: 0.9345 - val_loss: 1.5995\n",
      "Epoch 64/100\n",
      "572/572 [==============================] - 0s 476us/step - loss: 0.9445 - val_loss: 1.4426\n",
      "Epoch 65/100\n",
      "572/572 [==============================] - 0s 476us/step - loss: 0.9321 - val_loss: 1.6649\n",
      "Epoch 66/100\n",
      "572/572 [==============================] - 0s 479us/step - loss: 0.9487 - val_loss: 1.5599\n",
      "Epoch 67/100\n",
      "572/572 [==============================] - 0s 471us/step - loss: 0.9349 - val_loss: 1.5100\n",
      "Epoch 68/100\n",
      "572/572 [==============================] - 0s 479us/step - loss: 0.9451 - val_loss: 1.5074\n",
      "Epoch 69/100\n",
      "572/572 [==============================] - 0s 475us/step - loss: 0.9332 - val_loss: 1.5486\n",
      "Epoch 70/100\n",
      "572/572 [==============================] - 0s 476us/step - loss: 0.9443 - val_loss: 1.6425\n",
      "Epoch 71/100\n",
      "572/572 [==============================] - 0s 484us/step - loss: 0.9153 - val_loss: 1.7383\n",
      "Epoch 72/100\n",
      "572/572 [==============================] - 0s 478us/step - loss: 0.9358 - val_loss: 1.7207\n",
      "Epoch 73/100\n",
      "572/572 [==============================] - 0s 486us/step - loss: 0.9301 - val_loss: 1.6171\n",
      "Epoch 74/100\n",
      "572/572 [==============================] - 0s 483us/step - loss: 0.9292 - val_loss: 1.5393\n",
      "Epoch 75/100\n",
      "572/572 [==============================] - 0s 480us/step - loss: 0.9334 - val_loss: 1.7180\n",
      "Epoch 76/100\n",
      "572/572 [==============================] - 0s 483us/step - loss: 0.9330 - val_loss: 1.5073\n",
      "Epoch 77/100\n",
      "572/572 [==============================] - 0s 477us/step - loss: 0.9302 - val_loss: 1.6552\n",
      "Epoch 78/100\n",
      "572/572 [==============================] - 0s 486us/step - loss: 0.9207 - val_loss: 1.7051\n",
      "Epoch 79/100\n"
     ]
    },
    {
     "name": "stdout",
     "output_type": "stream",
     "text": [
      "572/572 [==============================] - 0s 481us/step - loss: 0.9120 - val_loss: 1.7332\n",
      "Epoch 80/100\n",
      "572/572 [==============================] - 0s 474us/step - loss: 0.9257 - val_loss: 1.6091\n",
      "Epoch 81/100\n",
      "572/572 [==============================] - 0s 473us/step - loss: 0.9204 - val_loss: 1.6238\n",
      "Epoch 82/100\n",
      "572/572 [==============================] - 0s 479us/step - loss: 0.9286 - val_loss: 1.5793\n",
      "Epoch 83/100\n",
      "572/572 [==============================] - 0s 480us/step - loss: 0.9244 - val_loss: 1.6165\n",
      "Epoch 84/100\n",
      "572/572 [==============================] - 0s 480us/step - loss: 0.9287 - val_loss: 1.5605\n",
      "Epoch 85/100\n",
      "572/572 [==============================] - 0s 488us/step - loss: 0.9194 - val_loss: 1.6777\n",
      "Epoch 86/100\n",
      "572/572 [==============================] - 0s 480us/step - loss: 0.9326 - val_loss: 1.4740\n",
      "Epoch 87/100\n",
      "572/572 [==============================] - 0s 479us/step - loss: 0.9224 - val_loss: 1.6567\n",
      "Epoch 88/100\n",
      "572/572 [==============================] - 0s 470us/step - loss: 0.9376 - val_loss: 1.7173\n",
      "Epoch 89/100\n",
      "572/572 [==============================] - 0s 482us/step - loss: 0.9562 - val_loss: 1.5753\n",
      "Epoch 90/100\n",
      "572/572 [==============================] - 0s 475us/step - loss: 0.9457 - val_loss: 1.7304\n",
      "Epoch 91/100\n",
      "572/572 [==============================] - 0s 482us/step - loss: 0.9406 - val_loss: 1.5517\n",
      "Epoch 92/100\n",
      "572/572 [==============================] - 0s 478us/step - loss: 0.9285 - val_loss: 1.5006\n",
      "Epoch 93/100\n",
      "572/572 [==============================] - 0s 483us/step - loss: 0.9385 - val_loss: 1.5148\n",
      "Epoch 94/100\n",
      "572/572 [==============================] - 0s 479us/step - loss: 0.9325 - val_loss: 1.4742\n",
      "Epoch 95/100\n",
      "572/572 [==============================] - 0s 478us/step - loss: 0.9221 - val_loss: 1.7085\n",
      "Epoch 96/100\n",
      "572/572 [==============================] - 0s 479us/step - loss: 0.9141 - val_loss: 1.6448\n",
      "Epoch 97/100\n",
      "572/572 [==============================] - 0s 477us/step - loss: 0.9094 - val_loss: 1.5436\n",
      "Epoch 98/100\n",
      "572/572 [==============================] - 0s 479us/step - loss: 0.9155 - val_loss: 1.6737\n",
      "Epoch 99/100\n",
      "572/572 [==============================] - 0s 480us/step - loss: 0.9138 - val_loss: 1.4200\n",
      "Epoch 100/100\n",
      "572/572 [==============================] - 0s 475us/step - loss: 0.9328 - val_loss: 1.5271\n"
     ]
    }
   ],
   "source": [
    "callbacks=[rnaNet.lrate, cb.EarlyStopping(monitor='val_loss', patience=100, mode='auto')]\n",
    "rnaNet.train(epochs=100, callbacks=callbacks)"
   ]
  },
  {
   "cell_type": "code",
   "execution_count": 7,
   "metadata": {
    "scrolled": true
   },
   "outputs": [],
   "source": [
    "rnaNet.pca()"
   ]
  },
  {
   "cell_type": "code",
   "execution_count": 8,
   "metadata": {
    "scrolled": false
   },
   "outputs": [
    {
     "data": {
      "image/png": "[encoded data removed]",
      "text/plain": [
       "<matplotlib.figure.Figure at 0x7fbe118c89b0>"
      ]
     },
     "metadata": {},
     "output_type": "display_data"
    },
    {
     "data": {
      "image/png": "[encoded data removed]",
      "text/plain": [
       "<matplotlib.figure.Figure at 0x7fbdd01354a8>"
      ]
     },
     "metadata": {},
     "output_type": "display_data"
    }
   ],
   "source": [
    "%matplotlib inline\n",
    "\n",
    "rnaNet.scatter_hist()"
   ]
  },
  {
   "cell_type": "code",
   "execution_count": 11,
   "metadata": {},
   "outputs": [
    {
     "name": "stdout",
     "output_type": "stream",
     "text": [
      "(211, 20)\n",
      "(636, 20)\n",
      "(636, 20)\n"
     ]
    }
   ],
   "source": []
  },
  {
   "cell_type": "code",
   "execution_count": null,
   "metadata": {},
   "outputs": [],
   "source": []
  },
  {
   "cell_type": "code",
   "execution_count": null,
   "metadata": {},
   "outputs": [],
   "source": [
    "import matplotlib.pyplot as plt\n",
    "from matplotlib.ticker import NullFormatter\n",
    "\n",
    "def multiScatterHist(x1, x2, y1, y2, colors1, colors2, axis1='', axis2=''):\n",
    "    nullfmt = NullFormatter()         # no labels\n",
    "    \n",
    "    # sanity check\n",
    "    print(\"colors1 shape = \" + str(colors1.shape) + \" colors2 shape = \" + str(colors2.shape))\n",
    "    print(\"x1 shape = \" + str(x1.shape) + \" x2 shape = \" + str(x2.shape))\n",
    "    print(\"y1 shape = \" + str(y1.shape) + \" y2 shape = \" + str(y2.shape))\n",
    "    \n",
    "    # definitions for the axes\n",
    "    left, width = 0.1, 0.65\n",
    "    bottom, height = 0.1, 0.65\n",
    "    bottom_h = left_h = left + width + 0.02\n",
    "    \n",
    "    rect_scatter = [left, bottom, width, height]\n",
    "    rect_histx = [left, bottom_h, width, 0.2]\n",
    "    rect_histy = [left_h, bottom, 0.2, height]\n",
    "    \n",
    "    # start with a rectangular Figure\n",
    "    plt.figure(figsize=(12, 12))\n",
    "       \n",
    "    axScatter = plt.axes(rect_scatter)\n",
    "    axHistx = plt.axes(rect_histx)\n",
    "    axHisty = plt.axes(rect_histy)\n",
    "    \n",
    "    # no labels\n",
    "    axHistx.xaxis.set_major_formatter(nullfmt)\n",
    "    axHisty.yaxis.set_major_formatter(nullfmt)\n",
    "    \n",
    "    # the scatter plot:\n",
    "    axScatter.scatter(x1, x2, color=colors1, marker='o', s=20)\n",
    "    axScatter.scatter(y1, y2, color=colors2, marker='s', facecolors='none', s=20) \n",
    "\n",
    "\n",
    "    # now determine nice limits by hand:\n",
    "    binwidth = 0.5\n",
    "    xymax = np.max([np.max(np.fabs(x1)), np.max(np.fabs(x2))]) + 10\n",
    "    lim = (int(xymax/binwidth) + 1) * binwidth\n",
    "    \n",
    "    axScatter.set_xlim((-lim, lim))\n",
    "    axScatter.set_ylim((-lim, lim))\n",
    "    \n",
    "    bins = np.arange(-lim, lim + binwidth, binwidth)\n",
    "    axHistx.hist(x1, bins=bins, color = 'blue', normed=True, stacked = True, histtype='step' )\n",
    "    axHisty.hist(x2, bins=bins, orientation='horizontal', color = 'blue', normed=True, \n",
    "                 stacked = True, histtype='step')\n",
    "    axHistx.hist(y1, bins=bins, color = 'red', normed=True, stacked = True, histtype='step')\n",
    "    axHisty.hist(y2, bins=bins, orientation='horizontal', color = 'red', normed=True, \n",
    "                 stacked = True, histtype='step')\n",
    "    \n",
    "    axHistx.set_xlim(axScatter.get_xlim())\n",
    "    axHisty.set_ylim(axScatter.get_ylim())\n",
    "    \n",
    "    axHistx.set_xticklabels([])\n",
    "    axHistx.set_yticklabels([])\n",
    "    axHisty.set_xticklabels([])\n",
    "    axHisty.set_yticklabels([])\n",
    "    axScatter.set_xlabel(axis1, fontsize=15)\n",
    "    axScatter.set_ylabel(axis2, fontsize=15)\n",
    "\n",
    "    plt.show()"
   ]
  },
  {
   "cell_type": "code",
   "execution_count": null,
   "metadata": {},
   "outputs": [],
   "source": []
  }
 ],
 "metadata": {
  "kernelspec": {
   "display_name": "Environment (conda_tensorflow_p36)",
   "language": "python",
   "name": "conda_tensorflow_p36"
  },
  "language_info": {
   "codemirror_mode": {
    "name": "ipython",
    "version": 3
   },
   "file_extension": ".py",
   "mimetype": "text/x-python",
   "name": "python",
   "nbconvert_exporter": "python",
   "pygments_lexer": "ipython3",
   "version": "3.6.3"
  }
 },
 "nbformat": 4,
 "nbformat_minor": 2
}
