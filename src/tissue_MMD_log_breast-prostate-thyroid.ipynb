{
 "cells": [
  {
   "cell_type": "markdown",
   "metadata": {},
   "source": [
    "# Unnormalized log transformed: breast, prostate, thyroid\n",
    "\n",
    "The unnormalized and log transformed breast, prostate and thyroid"
   ]
  },
  {
   "cell_type": "code",
   "execution_count": 200,
   "metadata": {
    "scrolled": true
   },
   "outputs": [],
   "source": [
    "from imp import reload\n",
    "from train_RNA_ResNet import ResNet\n",
    "from keras import callbacks as cb\n",
    "from Calibration_Util import FileIO as io\n",
    "import os\n",
    "import numpy as np"
   ]
  },
  {
   "cell_type": "code",
   "execution_count": 201,
   "metadata": {},
   "outputs": [],
   "source": [
    "rnaNet = ResNet()\n",
    "\n",
    "# GTEX as source and TCGA as target\n",
    "source_file = 'unnorm-log-20PC-GTEX-breast-prostate-thyroid.csv'\n",
    "target_file = 'unnorm-log-20PC-TCGA-breast-prostate-thyroid.csv'\n",
    "source_path = os.path.join(io.DeepLearningRoot(), 'data/unnorm/breast-prostate-thyroid/' + source_file)\n",
    "target_path = os.path.join(io.DeepLearningRoot(), 'data/unnorm/breast-prostate-thyroid/' + target_file)\n",
    "\n",
    "# Make GTEX target and TCGA source\n",
    "# target_file = 'unnorm-log-20PC-GTEX-breast-prostate-thyroid.csv'\n",
    "# source_file = 'unnorm-log-20PC-TCGA-breast-prostate-thyroid.csv'\n",
    "# source_path = os.path.join(io.DeepLearningRoot(), 'data/unnorm/' + source_file)\n",
    "# target_path = os.path.join(io.DeepLearningRoot(), 'data/unnorm/' + target_file)\n",
    "\n",
    "rnaNet.load_data(source_path=source_path,\n",
    "                target_path=target_path)"
   ]
  },
  {
   "cell_type": "code",
   "execution_count": 202,
   "metadata": {},
   "outputs": [
    {
     "name": "stdout",
     "output_type": "stream",
     "text": [
      "\n",
      "gtex = source shape = (636, 20)\n",
      "tcga = target shape = (211, 20)\n"
     ]
    }
   ],
   "source": [
    "print(\"\\ngtex = source shape = \" + str(rnaNet.source.shape))\n",
    "print(\"tcga = target shape = \" + str(rnaNet.target.shape))"
   ]
  },
  {
   "cell_type": "code",
   "execution_count": 203,
   "metadata": {
    "scrolled": true
   },
   "outputs": [],
   "source": [
    "import CostFunctions as cf\n",
    "from keras import backend as K\n",
    "from sklearn.cross_validation import train_test_split\n",
    "\n",
    "tissue_map = {'breast': 0, 'thyroid':1, 'prostate':2}\n",
    "tm = lambda t: tissue_map[t]\n",
    "sample_ratio = 0.75"
   ]
  },
  {
   "cell_type": "code",
   "execution_count": 204,
   "metadata": {
    "scrolled": false
   },
   "outputs": [
    {
     "name": "stdout",
     "output_type": "stream",
     "text": [
      "target train counts\n",
      "breast      98\n",
      "prostate    45\n",
      "thyroid     46\n",
      "Name: tissue, dtype: int64\n",
      "\n",
      "target validation counts\n",
      "breast      12\n",
      "prostate     3\n",
      "thyroid      7\n",
      "Name: tissue, dtype: int64\n",
      "\n",
      "target train shape\n",
      "(189, 20)\n",
      "\n",
      "target validate shape\n",
      "(22, 20)\n",
      "\n",
      "setting scales using KNN\n",
      "[17.821849061849953, 35.643698123699906, 71.287396247399812]\n",
      "setting all scale weights to 1\n",
      "3.0\n"
     ]
    }
   ],
   "source": [
    "source_labels = rnaNet.source_df['tissue'].map(tm).values\n",
    "\n",
    "source = rnaNet.source.astype('float32')\n",
    "target = rnaNet.target.astype('float32')\n",
    "\n",
    "target_train_df, target_test_df = train_test_split(rnaNet.target_df, test_size=0.1, random_state=42)\n",
    "\n",
    "# sort values based on tissue\n",
    "target_train_df = target_train_df.sort_values(['tissue'])\n",
    "target_test_df = target_test_df.sort_values(['tissue'])\n",
    "\n",
    "# extract tissue labels\n",
    "target_train_labels = target_train_df.loc[:, 'tissue']\n",
    "target_test_labels = target_test_df.loc[:, 'tissue']\n",
    "\n",
    "target_train_counts = target_train_df['tissue'].value_counts().sort_index()\n",
    "target_test_counts = target_test_df['tissue'].value_counts().sort_index()\n",
    "print(\"target train counts\")\n",
    "print(target_train_counts)\n",
    "print(\"\\ntarget validation counts\")\n",
    "print(target_test_counts)\n",
    "\n",
    "# extract values as numpy array\n",
    "target_train = target_train_df.loc[:, \"PC1\":].values\n",
    "target_test = target_test_df.loc[:, \"PC1\":].values\n",
    "\n",
    "print(\"\\ntarget train shape\")\n",
    "print(target_train.shape)\n",
    "print(\"\\ntarget validate shape\")\n",
    "print(target_test.shape)\n",
    "print(\"\")\n",
    "\n",
    "mmd = cf.MMD(source, target)"
   ]
  },
  {
   "cell_type": "code",
   "execution_count": 205,
   "metadata": {},
   "outputs": [
    {
     "data": {
      "text/plain": [
       "array([[  0,  98],\n",
       "       [ 98, 143],\n",
       "       [143, 189]], dtype=int32)"
      ]
     },
     "execution_count": 205,
     "metadata": {},
     "output_type": "execute_result"
    }
   ],
   "source": [
    "ranges = np.zeros((3, 2), dtype='int32')\n",
    "ranges[0] = [0, target_train_counts[0]]\n",
    "ranges[1] = [target_train_counts[0], target_train_counts[0] + target_train_counts[1]]\n",
    "ranges[2] = [ranges[1, 1], target_train_counts[0] + target_train_counts[1] + target_train_counts[2]]\n",
    "ranges"
   ]
  },
  {
   "cell_type": "code",
   "execution_count": 206,
   "metadata": {},
   "outputs": [
    {
     "name": "stdout",
     "output_type": "stream",
     "text": [
      "low = 0, high = 98\n",
      "low = 98, high = 143\n",
      "low = 143, high = 189\n"
     ]
    },
    {
     "data": {
      "text/plain": [
       "array([[  0,  98],\n",
       "       [ 98, 143],\n",
       "       [143, 189]], dtype=int32)"
      ]
     },
     "execution_count": 206,
     "metadata": {},
     "output_type": "execute_result"
    }
   ],
   "source": [
    "r = np.zeros((3, 2), dtype='int32')\n",
    "low = 0\n",
    "for i in range(target_train_counts.shape[0]):\n",
    "    high = low+target_train_counts[i]\n",
    "    print(\"low = {0}, high = {1}\".format(low, high))\n",
    "    r[i] = [low, high]\n",
    "    low = high\n",
    "    \n",
    "r"
   ]
  },
  {
   "cell_type": "code",
   "execution_count": 207,
   "metadata": {},
   "outputs": [
    {
     "data": {
      "text/plain": [
       "<tf.Tensor 'Cast_137/x:0' shape=(98,) dtype=int32>"
      ]
     },
     "execution_count": 207,
     "metadata": {},
     "output_type": "execute_result"
    }
   ],
   "source": [
    "\n",
    "K.cast(np.fromiter((x for x in range(r[0, 0],r[0,1])), dtype='int32'), 'int32')"
   ]
  },
  {
   "cell_type": "code",
   "execution_count": 208,
   "metadata": {},
   "outputs": [
    {
     "data": {
      "text/plain": [
       "array([[ -1.01308837e+03,   9.74664853e+01,   1.69532985e+01, ...,\n",
       "         -1.53483675e+01,  -7.37165362e-01,   2.76149216e+00],\n",
       "       [ -1.03294005e+03,   8.53413768e+01,   1.13867180e+01, ...,\n",
       "          2.75978600e+00,   9.47447009e-01,  -8.03344834e+00],\n",
       "       [ -1.03019918e+03,   8.64972352e+01,   4.98417158e+00, ...,\n",
       "          3.58106391e+00,   6.12993578e+00,  -1.74374938e+00],\n",
       "       ..., \n",
       "       [ -1.03683771e+03,   7.91775519e+01,   8.07389956e+00, ...,\n",
       "         -3.18065216e+00,  -6.50574618e+00,  -1.76683650e+01],\n",
       "       [ -1.02517898e+03,   1.01083259e+02,   2.17172322e+01, ...,\n",
       "         -9.56444086e+00,   7.32383195e+00,  -1.10361332e+01],\n",
       "       [ -1.03869086e+03,   7.53757057e+01,   2.37745270e+00, ...,\n",
       "          5.47444378e+00,  -4.53237330e+00,   9.22592874e-01]])"
      ]
     },
     "execution_count": 208,
     "metadata": {},
     "output_type": "execute_result"
    }
   ],
   "source": [
    "from math import floor\n",
    "sample_size = floor(0.75*target_train_counts[0])\n",
    "ix = np.random.randint(low=r[2,0], high=r[2,1], size=sample_size)\n",
    "target_train[ix, :]"
   ]
  },
  {
   "cell_type": "code",
   "execution_count": 209,
   "metadata": {},
   "outputs": [],
   "source": [
    "import MultiMMD as mMMD"
   ]
  },
  {
   "cell_type": "code",
   "execution_count": 217,
   "metadata": {
    "scrolled": true
   },
   "outputs": [
    {
     "name": "stdout",
     "output_type": "stream",
     "text": [
      "setting scales using KNN\n",
      "tissue = breast, low = 0, high = 110\n",
      "tissue = prostate, low = 110, high = 158\n",
      "tissue = thyroid, low = 158, high = 211\n",
      "\n",
      "setting scales for tissue 0 breast\n",
      "[ 21.36694189  42.73388379  85.46776757]\n",
      "\n",
      "setting scales for tissue 1 prostate\n",
      "[  29.38964452   58.77928904  117.55857807]\n",
      "\n",
      "setting scales for tissue 2 thyroid\n",
      "[ 20.29726688  40.59453376  81.18906752]\n",
      "\n",
      "setting all scale weights to 1\n",
      "\n",
      "target train counts\n",
      "breast      98\n",
      "prostate    45\n",
      "thyroid     46\n",
      "Name: tissue, dtype: int64\n",
      "\n",
      "target validation counts\n",
      "breast      12\n",
      "prostate     3\n",
      "thyroid      7\n",
      "Name: tissue, dtype: int64\n",
      "\n",
      "target train shape\n",
      "(189, 20)\n",
      "\n",
      "target validate shape\n",
      "(22, 20)\n",
      "\n",
      "calculating training ranges\n",
      "tissue = breast, low = 0, high = 98\n",
      "tissue = prostate, low = 98, high = 143\n",
      "tissue = thyroid, low = 143, high = 189\n",
      "\n",
      "calculating validation ranges\n",
      "tissue = breast, low = 0, high = 12\n",
      "tissue = prostate, low = 12, high = 15\n",
      "tissue = thyroid, low = 15, high = 22\n"
     ]
    }
   ],
   "source": [
    "reload(mMMD)\n",
    "s = K.cast(source, 'float32')\n",
    "m = mMMD.MultiMMD(s, rnaNet.target_df)\n"
   ]
  },
  {
   "cell_type": "code",
   "execution_count": 218,
   "metadata": {
    "scrolled": false
   },
   "outputs": [
    {
     "data": {
      "text/plain": [
       "6.0145116"
      ]
     },
     "execution_count": 218,
     "metadata": {},
     "output_type": "execute_result"
    }
   ],
   "source": [
    "y_true = K.cast(source_labels, 'int32')\n",
    "y_pred = K.cast(source_labels, 'int32')\n",
    "K.eval(m.KerasCost(y_true, y_pred))"
   ]
  },
  {
   "cell_type": "code",
   "execution_count": 85,
   "metadata": {},
   "outputs": [
    {
     "name": "stdout",
     "output_type": "stream",
     "text": [
      "[ 21.40997124  42.81994247  85.63988495]\n",
      "[[  21.40997124   42.81994247   85.63988495]\n",
      " [  30.3833828    60.76676559  121.53353119]\n",
      " [  20.22311592   40.44623184   80.89246368]]\n"
     ]
    }
   ],
   "source": [
    "print(K.eval(K.gather(m.scales, 0)))\n",
    "print(K.eval(m.scales))"
   ]
  },
  {
   "cell_type": "code",
   "execution_count": 166,
   "metadata": {},
   "outputs": [
    {
     "data": {
      "text/plain": [
       "<tf.Tensor 'Cast_93/x:0' shape=(3, 3) dtype=float32>"
      ]
     },
     "execution_count": 166,
     "metadata": {},
     "output_type": "execute_result"
    }
   ],
   "source": [
    "t = K.eval(m.scales)\n",
    "K.cast(t, 'float32')"
   ]
  },
  {
   "cell_type": "code",
   "execution_count": 125,
   "metadata": {},
   "outputs": [
    {
     "name": "stdout",
     "output_type": "stream",
     "text": [
      "0\n",
      "1\n",
      "2\n"
     ]
    }
   ],
   "source": [
    "for tissue in tissue_map:\n",
    "    print(tissue_map[tissue])"
   ]
  },
  {
   "cell_type": "code",
   "execution_count": 93,
   "metadata": {
    "scrolled": true
   },
   "outputs": [
    {
     "name": "stdout",
     "output_type": "stream",
     "text": [
      "[28  7 70 36 79 86 41 82 15 16  9  2 20 61 83  0 26 61 76 16 69 11 23  1 78\n",
      " 27 63 77 18 65 38  8 84 13 93 18  8 73 95 34  2 91 32 28 43 22  0 75 38 44\n",
      " 57 15 58 53 88 43  7 88 67 59 55 15 76 12 48 86 13 42 37 25 42  9 60]\n"
     ]
    }
   ],
   "source": [
    "sample1_low = 0\n",
    "sample1_high = target_train_counts['breast']-1\n",
    "sample1_size = int(target_train_counts['breast'] * sample_ratio)\n",
    "sample1 = K.cast(K.round(K.random_uniform_variable(shape=tuple([sample1_size]), low=sample1_low, \n",
    "                                                   high=sample1_high)), 'int32')\n",
    "sample1_labels = target_train_labels.iloc[K.eval(sample1)]\n",
    "sample1_target_train = K.gather(target_train, sample1)"
   ]
  },
  {
   "cell_type": "code",
   "execution_count": 88,
   "metadata": {},
   "outputs": [],
   "source": [
    "sample2_low = target_train_counts['breast']\n",
    "sample2_high = sample2_low + target_train_counts['prostate']-1\n",
    "sample2_size = int(target_train_counts['prostate'] * sample_ratio)\n",
    "sample2 = K.cast(K.round(K.random_uniform_variable(shape=tuple([sample2_size]), low=sample2_low, \n",
    "                                                   high=sample2_high)), 'int32')\n",
    "\n",
    "sample2_labels = target_train_labels.iloc[K.eval(sample2)]\n",
    "sample2_target_train = K.gather(target_train, sample2)"
   ]
  },
  {
   "cell_type": "code",
   "execution_count": 89,
   "metadata": {},
   "outputs": [],
   "source": [
    "sample3_low = target_train_counts['breast'] + target_train_counts['prostate']\n",
    "sample3_high = target_train.shape[0] - 1\n",
    "sample3_size = int(target_train_counts['thyroid'] * sample_ratio)\n",
    "sample3 = K.cast(K.round(K.random_uniform_variable(shape=tuple([sample3_size]), low=sample3_low, \n",
    "                                                   high=sample3_high)), 'int32')\n",
    "\n",
    "sample3_labels = target_train_labels.iloc[K.eval(sample3)]\n",
    "sample3_target_train = K.gather(target_train, sample3)"
   ]
  },
  {
   "cell_type": "code",
   "execution_count": 102,
   "metadata": {
    "scrolled": true
   },
   "outputs": [],
   "source": [
    "#calculate the squared distance between x and y\n",
    "def squaredDistance(X, Y):\n",
    "    # X is nxd, Y is mxd, returns nxm matrix of all pairwise Euclidean distances\n",
    "    # broadcasted subtraction, a square, and a sum.\n",
    "    r = K.expand_dims(X, axis=1)\n",
    "    return K.sum(K.square(r-Y), axis=-1)\n",
    "\n",
    "# this will be self.MMDLayer and the labels will be y_true\n",
    "def kernel(X, Y, weights, scales):\n",
    "        #expand dist to a 1xnxm tensor where the 1 is broadcastable\n",
    "        sQdist = K.expand_dims(squaredDistance(X,Y), 0) \n",
    "        #expand scales into a px1x1 tensor so we can do an element wise exponential\n",
    "        scales = K.expand_dims(K.expand_dims(scales, -1), -1)\n",
    "        #expand scales into a px1x1 tensor so we can do an element wise exponential\n",
    "        weights = K.expand_dims(K.expand_dims(weights, -1), -1)\n",
    "        #calculated the kernel for each scale weight on the distance matrix and sum them up\n",
    "        return K.sum(weights * K.exp(-sQdist / (K.pow(scales, 2))), 0)\n",
    "\n",
    "def cost(source, target):\n",
    "        #calculate the 3 MMD terms\n",
    "        xx = kernel(source, source)\n",
    "        xy = kernel(source, target)\n",
    "        yy = kernel(target, target)\n",
    "        #calculate the bias MMD estimater (cannot be less than 0)\n",
    "        MMD = K.mean(xx) - 2 * K.mean(xy) + K.mean(yy)\n",
    "        #return the square root of the MMD because it optimizes better\n",
    "        return K.sqrt(MMD)"
   ]
  },
  {
   "cell_type": "code",
   "execution_count": 160,
   "metadata": {
    "scrolled": true
   },
   "outputs": [
    {
     "data": {
      "text/plain": [
       "array([[ -1.04319763e+03,   8.55411682e+01,  -9.16656208e+00, ...,\n",
       "         -3.96891212e+00,  -5.97061157e+00,  -6.45357990e+00],\n",
       "       [ -1.05486597e+03,   8.22033157e+01,  -1.86219841e-01, ...,\n",
       "         -1.55560875e+00,  -4.43829155e+00,  -4.29482794e+00],\n",
       "       [ -1.05395630e+03,   9.70952759e+01,   8.19949532e+00, ...,\n",
       "         -7.10550833e+00,   6.40194416e+00,   1.35061234e-01],\n",
       "       ..., \n",
       "       [ -1.04634741e+03,   7.35175476e+01,  -2.88416481e+01, ...,\n",
       "         -3.55933452e+00,  -4.31093454e+00,   1.45371590e+01],\n",
       "       [ -1.05143445e+03,   7.97590179e+01,  -1.58335114e+01, ...,\n",
       "          1.54808321e+01,   5.85429525e+00,   1.13632555e+01],\n",
       "       [ -1.05030786e+03,   9.67564774e+01,   2.85908461e+00, ...,\n",
       "         -8.79446220e+00,  -3.47261906e+00,   3.69658440e-01]], dtype=float32)"
      ]
     },
     "execution_count": 160,
     "metadata": {},
     "output_type": "execute_result"
    }
   ],
   "source": [
    "weights = mmd.weights\n",
    "scales = mmd.scales\n",
    "\n",
    "source_index1 = np.where(np.isin(source_labels, 0))[0]\n",
    "source_index2 = np.where(np.isin(source_labels, 1))[0]\n",
    "source_index3 = np.where(np.isin(source_labels, 2))[0]\n",
    "source_index1 = []\n",
    "source1 = source[source_index1]\n",
    "source2 = source[source_index2]\n",
    "source3 = source[source_index3]\n",
    "source2"
   ]
  },
  {
   "cell_type": "code",
   "execution_count": 172,
   "metadata": {},
   "outputs": [
    {
     "name": "stdout",
     "output_type": "stream",
     "text": [
      "0.0\n",
      "0.0\n",
      "nan\n",
      "2.17276\n",
      "1.72843\n",
      "3.90119\n"
     ]
    }
   ],
   "source": [
    "# calculate MMD for tissue 1\n",
    "sample1_target = K.cast(sample1_target_train, 'float32')\n",
    "xx1 = kernel(source1.astype('float32'), source1.astype('float32'), weights, scales)\n",
    "xy1 = kernel(source1.astype('float32'), sample1_target, weights, scales)\n",
    "yy1 = kernel(sample1_target, sample1_target, weights, scales)\n",
    "MMD1 = K.mean(xx1) - 2*K.mean(xy1) + K.mean(yy1)\n",
    "#MMD1 = K.sqrt(MMD1)\n",
    "\n",
    "# calculate MMD for tissue 2\n",
    "sample2_target = K.cast(sample2_target_train, 'float32')\n",
    "xx2 = kernel(source2.astype('float32'), source2.astype('float32'), weights, scales)\n",
    "xy2 = kernel(source2.astype('float32'), sample2_target, weights, scales)\n",
    "yy2 = kernel(sample2_target, sample2_target, weights, scales)\n",
    "MMD2 = K.mean(xx2) - 2*K.mean(xy2) + K.mean(yy2)\n",
    "MMD3 = K.sqrt(MMD3)\n",
    "\n",
    "# calculate MMD for tissue 3\n",
    "sample3_target = K.cast(sample3_target_train, 'float32')\n",
    "xx3 = kernel(source3.astype('float32'), source3.astype('float32'), weights, scales)\n",
    "xy3 = kernel(source3.astype('float32'), sample3_target, weights, scales)\n",
    "yy3 = kernel(sample3_target, sample3_target, weights, scales)\n",
    "MMD3 = K.mean(xx3) - 2*K.mean(xy3) + K.mean(yy3)\n",
    "MMD3 = K.sqrt(MMD3)\n",
    "\n",
    "\n",
    "x = np.nan_to_num(K.eval(MMD1))\n",
    "print(x)\n",
    "x = K.cast(x, 'float32')\n",
    "K.sqrt(x)\n",
    "print(K.eval(x))\n",
    "\n",
    "print(K.eval(MMD1))\n",
    "print(K.eval(MMD2))\n",
    "print(K.eval(MMD3))"
   ]
  },
  {
   "cell_type": "code",
   "execution_count": null,
   "metadata": {
    "scrolled": true
   },
   "outputs": [],
   "source": [
    "rnaNet.init_res_net()"
   ]
  },
  {
   "cell_type": "code",
   "execution_count": null,
   "metadata": {
    "scrolled": true
   },
   "outputs": [],
   "source": [
    "# callbacks=[rnaNet.lrate, cb.EarlyStopping(monitor='val_loss', patience=100, mode='auto')]\n",
    "# rnaNet.train(epochs=1000, callbacks=callbacks)"
   ]
  },
  {
   "cell_type": "code",
   "execution_count": null,
   "metadata": {},
   "outputs": [],
   "source": [
    "# from plots import scatter_plot, heatmap\n",
    "# rnaNet.pca()\n",
    "# %matplotlib inline"
   ]
  },
  {
   "cell_type": "code",
   "execution_count": null,
   "metadata": {
    "scrolled": true
   },
   "outputs": [],
   "source": [
    "# scatter_plot(rnaNet.source_pca_df, rnaNet.target_pca_df, title=\"before\")\n",
    "# scatter_plot(rnaNet.calibrated_source_pca_df, rnaNet.target_pca_df, title=\"after\")"
   ]
  },
  {
   "cell_type": "code",
   "execution_count": null,
   "metadata": {
    "scrolled": false
   },
   "outputs": [],
   "source": [
    "# heatmap(rnaNet.source_df, rnaNet.target_df, title=\"before\")\n",
    "# heatmap(rnaNet.calibrated_source_df, rnaNet.target_df, title=\"after\")"
   ]
  },
  {
   "cell_type": "code",
   "execution_count": null,
   "metadata": {},
   "outputs": [],
   "source": [
    "# import CostFunctions as cf\n",
    "# from keras import backend as K\n",
    "\n",
    "# source = rnaNet.source.astype('float32')\n",
    "# target = rnaNet.target.astype('float32')\n",
    "# calibrated_source = rnaNet.calibrated_source.astype('float32')\n",
    "\n",
    "# mmd = cf.MMD(source, target, MMDTargetSampleSize=target.shape[0], n_neighbors=10)\n",
    "# mmd_before = K.eval(mmd.cost(source, target))\n",
    "# mmd_after = K.eval(mmd.cost(calibrated_source, target))\n",
    "\n",
    "# print(\"MMD before: %0.10f\" % mmd_before)\n",
    "# print(\"MMD after: %0.10f\" % mmd_after)"
   ]
  },
  {
   "cell_type": "code",
   "execution_count": null,
   "metadata": {},
   "outputs": [],
   "source": [
    "# save_file = 'calibrated-unnorm-log-20PC-GTEX-breast-prostate-thyroid.csv'\n",
    "# save_path = os.path.join(io.DeepLearningRoot(), 'data/unnorm/breast-prostate-thyroid/' + save_file)\n",
    "\n",
    "# rnaNet.save_calibrated(path=save_path)"
   ]
  }
 ],
 "metadata": {
  "kernelspec": {
   "display_name": "Environment (conda_tensorflow_p36)",
   "language": "python",
   "name": "conda_tensorflow_p36"
  },
  "language_info": {
   "codemirror_mode": {
    "name": "ipython",
    "version": 3
   },
   "file_extension": ".py",
   "mimetype": "text/x-python",
   "name": "python",
   "nbconvert_exporter": "python",
   "pygments_lexer": "ipython3",
   "version": "3.6.3"
  }
 },
 "nbformat": 4,
 "nbformat_minor": 2
}
