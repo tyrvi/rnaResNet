{
 "cells": [
  {
   "cell_type": "markdown",
   "metadata": {},
   "source": [
    "# Unnormalized log transformed: breast, prostate, thyroid\n",
    "\n",
    "The unnormalized and log transformed breast, prostate and thyroid"
   ]
  },
  {
   "cell_type": "code",
   "execution_count": 1,
   "metadata": {
    "scrolled": true
   },
   "outputs": [
    {
     "name": "stderr",
     "output_type": "stream",
     "text": [
      "Using TensorFlow backend.\n",
      "/home/ubuntu/anaconda3/envs/tensorflow_p36/lib/python3.6/importlib/_bootstrap.py:219: RuntimeWarning: compiletime version 3.5 of module 'tensorflow.python.framework.fast_tensor_util' does not match runtime version 3.6\n",
      "  return f(*args, **kwds)\n",
      "/home/ubuntu/anaconda3/envs/tensorflow_p36/lib/python3.6/site-packages/sklearn/cross_validation.py:41: DeprecationWarning: This module was deprecated in version 0.18 in favor of the model_selection module into which all the refactored classes and functions are moved. Also note that the interface of the new CV iterators are different from that of this module. This module will be removed in 0.20.\n",
      "  \"This module will be removed in 0.20.\", DeprecationWarning)\n",
      "/home/ubuntu/anaconda3/envs/tensorflow_p36/lib/python3.6/site-packages/ggplot/utils.py:81: FutureWarning: pandas.tslib is deprecated and will be removed in a future version.\n",
      "You can access Timestamp as pandas.Timestamp\n",
      "  pd.tslib.Timestamp,\n",
      "/home/ubuntu/anaconda3/envs/tensorflow_p36/lib/python3.6/site-packages/ggplot/stats/smoothers.py:4: FutureWarning: The pandas.lib module is deprecated and will be removed in a future version. These are private functions and can be accessed from pandas._libs.lib instead\n",
      "  from pandas.lib import Timestamp\n",
      "/home/ubuntu/anaconda3/envs/tensorflow_p36/lib/python3.6/site-packages/statsmodels/compat/pandas.py:56: FutureWarning: The pandas.core.datetools module is deprecated and will be removed in a future version. Please use the pandas.tseries module instead.\n",
      "  from pandas.core import datetools\n"
     ]
    }
   ],
   "source": [
    "from train_RNA_ResNet import ResNet\n",
    "from keras import callbacks as cb\n",
    "from Calibration_Util import FileIO as io\n",
    "import os\n",
    "import numpy as np"
   ]
  },
  {
   "cell_type": "code",
   "execution_count": 2,
   "metadata": {},
   "outputs": [],
   "source": [
    "rnaNet = ResNet()\n",
    "\n",
    "# GTEX as source and TCGA as target\n",
    "source_file = 'unnorm-log-20PC-GTEX-breast-prostate-thyroid.csv'\n",
    "target_file = 'unnorm-log-20PC-TCGA-breast-prostate-thyroid.csv'\n",
    "source_path = os.path.join(io.DeepLearningRoot(), 'data/unnorm/breast-prostate-thyroid/' + source_file)\n",
    "target_path = os.path.join(io.DeepLearningRoot(), 'data/unnorm/breast-prostate-thyroid/' + target_file)\n",
    "\n",
    "# Make GTEX target and TCGA source\n",
    "# target_file = 'unnorm-log-20PC-GTEX-breast-prostate-thyroid.csv'\n",
    "# source_file = 'unnorm-log-20PC-TCGA-breast-prostate-thyroid.csv'\n",
    "# source_path = os.path.join(io.DeepLearningRoot(), 'data/unnorm/' + source_file)\n",
    "# target_path = os.path.join(io.DeepLearningRoot(), 'data/unnorm/' + target_file)\n",
    "\n",
    "rnaNet.load_data(source_path=source_path,\n",
    "                target_path=target_path)"
   ]
  },
  {
   "cell_type": "code",
   "execution_count": 3,
   "metadata": {},
   "outputs": [
    {
     "name": "stdout",
     "output_type": "stream",
     "text": [
      "\n",
      "gtex = source shape = (636, 20)\n",
      "tcga = target shape = (211, 20)\n"
     ]
    }
   ],
   "source": [
    "print(\"\\ngtex = source shape = \" + str(rnaNet.source.shape))\n",
    "print(\"tcga = target shape = \" + str(rnaNet.target.shape))"
   ]
  },
  {
   "cell_type": "code",
   "execution_count": 4,
   "metadata": {
    "scrolled": true
   },
   "outputs": [],
   "source": [
    "import CostFunctions as cf\n",
    "from keras import backend as K\n",
    "from sklearn.cross_validation import train_test_split\n",
    "\n",
    "tissue_map = {'breast': 0, 'thyroid':1, 'prostate':2}\n",
    "tm = lambda t: tissue_map[t]\n",
    "sample_ratio = 0.75"
   ]
  },
  {
   "cell_type": "code",
   "execution_count": 5,
   "metadata": {
    "scrolled": false
   },
   "outputs": [
    {
     "name": "stdout",
     "output_type": "stream",
     "text": [
      "target train counts\n",
      "breast      98\n",
      "thyroid     46\n",
      "prostate    45\n",
      "Name: tissue, dtype: int64\n",
      "\n",
      "target validation counts\n",
      "breast      12\n",
      "thyroid      7\n",
      "prostate     3\n",
      "Name: tissue, dtype: int64\n",
      "\n",
      "target train shape\n",
      "(189, 20)\n",
      "\n",
      "target validate shape\n",
      "(22, 20)\n",
      "\n",
      "setting scales using KNN\n",
      "[17.795059671855313, 35.590119343710626, 71.180238687421252]\n",
      "setting all scale weights to 1\n"
     ]
    }
   ],
   "source": [
    "source_labels = rnaNet.source_df['tissue'].map(tm).values\n",
    "\n",
    "source = rnaNet.source.astype('float32')\n",
    "target = rnaNet.target.astype('float32')\n",
    "\n",
    "target_train_df, target_test_df = train_test_split(rnaNet.target_df, test_size=0.1, random_state=42)\n",
    "\n",
    "# sort values based on tissue\n",
    "target_train_df = target_train_df.sort_values(['tissue'])\n",
    "target_test_df = target_test_df.sort_values(['tissue'])\n",
    "\n",
    "# extract tissue labels\n",
    "target_train_labels = target_train_df.loc[:, 'tissue']\n",
    "target_test_labels = target_test_df.loc[:, 'tissue']\n",
    "\n",
    "target_train_counts = target_train_df['tissue'].value_counts()\n",
    "target_test_counts = target_test_df['tissue'].value_counts()\n",
    "print(\"target train counts\")\n",
    "print(target_train_counts)\n",
    "print(\"\\ntarget validation counts\")\n",
    "print(target_test_counts)\n",
    "\n",
    "# extract values as numpy array\n",
    "target_train = target_train_df.loc[:, \"PC1\":].values\n",
    "target_test = target_test_df.loc[:, \"PC1\":].values\n",
    "\n",
    "print(\"\\ntarget train shape\")\n",
    "print(target_train.shape)\n",
    "print(\"\\ntarget validate shape\")\n",
    "print(target_test.shape)\n",
    "print(\"\")\n",
    "\n",
    "mmd = cf.MMD(source, target)"
   ]
  },
  {
   "cell_type": "code",
   "execution_count": 6,
   "metadata": {
    "scrolled": true
   },
   "outputs": [],
   "source": [
    "sample1_low = 0\n",
    "sample1_high = target_train_counts['breast']-1\n",
    "sample1_size = int(target_train_counts['breast'] * sample_ratio)\n",
    "sample1 = K.cast(K.round(K.random_uniform_variable(shape=tuple([sample1_size]), low=sample1_low, \n",
    "                                                   high=sample1_high)), 'int32')\n",
    "sample1_labels = target_train_labels.iloc[K.eval(sample1)]\n",
    "sample1_target_train = K.gather(target_train, sample1)"
   ]
  },
  {
   "cell_type": "code",
   "execution_count": 7,
   "metadata": {},
   "outputs": [],
   "source": [
    "sample2_low = target_train_counts['breast']\n",
    "sample2_high = sample2_low + target_train_counts['prostate']-1\n",
    "sample2_size = int(target_train_counts['prostate'] * sample_ratio)\n",
    "sample2 = K.cast(K.round(K.random_uniform_variable(shape=tuple([sample2_size]), low=sample2_low, \n",
    "                                                   high=sample2_high)), 'int32')\n",
    "\n",
    "sample2_labels = target_train_labels.iloc[K.eval(sample2)]\n",
    "sample2_target_train = K.gather(target_train, sample2)"
   ]
  },
  {
   "cell_type": "code",
   "execution_count": 8,
   "metadata": {},
   "outputs": [],
   "source": [
    "sample3_low = target_train_counts['breast'] + target_train_counts['prostate']\n",
    "sample3_high = target_train.shape[0] - 1\n",
    "sample3_size = int(target_train_counts['thyroid'] * sample_ratio)\n",
    "sample3 = K.cast(K.round(K.random_uniform_variable(shape=tuple([sample3_size]), low=sample3_low, \n",
    "                                                   high=sample3_high)), 'int32')\n",
    "\n",
    "sample3_labels = target_train_labels.iloc[K.eval(sample3)]\n",
    "sample3_target_train = K.gather(target_train, sample3)"
   ]
  },
  {
   "cell_type": "code",
   "execution_count": 9,
   "metadata": {
    "scrolled": true
   },
   "outputs": [],
   "source": [
    "#calculate the squared distance between x and y\n",
    "def squaredDistance(X, Y):\n",
    "    # X is nxd, Y is mxd, returns nxm matrix of all pairwise Euclidean distances\n",
    "    # broadcasted subtraction, a square, and a sum.\n",
    "    r = K.expand_dims(X, axis=1)\n",
    "    return K.sum(K.square(r-Y), axis=-1)\n",
    "\n",
    "# this will be self.MMDLayer and the labels will be y_true\n",
    "def kernel(X, Y, weights, scales):\n",
    "        #expand dist to a 1xnxm tensor where the 1 is broadcastable\n",
    "        sQdist = K.expand_dims(squaredDistance(X,Y), 0) \n",
    "        #expand scales into a px1x1 tensor so we can do an element wise exponential\n",
    "        scales = K.expand_dims(K.expand_dims(scales, -1), -1)\n",
    "        #expand scales into a px1x1 tensor so we can do an element wise exponential\n",
    "        weights = K.expand_dims(K.expand_dims(weights, -1), -1)\n",
    "        #calculated the kernel for each scale weight on the distance matrix and sum them up\n",
    "        return K.sum(weights * K.exp(-sQdist / (K.pow(scales, 2))), 0)\n",
    "\n",
    "def cost(source, target):\n",
    "        #calculate the 3 MMD terms\n",
    "        xx = kernel(source, source)\n",
    "        xy = kernel(source, target)\n",
    "        yy = kernel(target, target)\n",
    "        #calculate the bias MMD estimater (cannot be less than 0)\n",
    "        MMD = K.mean(xx) - 2 * K.mean(xy) + K.mean(yy)\n",
    "        #return the square root of the MMD because it optimizes better\n",
    "        return K.sqrt(MMD)"
   ]
  },
  {
   "cell_type": "code",
   "execution_count": 29,
   "metadata": {},
   "outputs": [
    {
     "data": {
      "text/plain": [
       "array([], shape=(0, 20), dtype=float32)"
      ]
     },
     "execution_count": 29,
     "metadata": {},
     "output_type": "execute_result"
    }
   ],
   "source": [
    "weights = mmd.weights\n",
    "scales = mmd.scales\n",
    "\n",
    "source_index1 = np.where(np.isin(source_labels, 0))[0]\n",
    "source_index2 = np.where(np.isin(source_labels, 1))[0]\n",
    "source_index3 = np.where(np.isin(source_labels, 2))[0]\n",
    "source_index1 = []\n",
    "source1 = source[source_index1]\n",
    "source2 = source[source_index2]\n",
    "source3 = source[source_index3]\n",
    "\n",
    "source1"
   ]
  },
  {
   "cell_type": "code",
   "execution_count": 40,
   "metadata": {},
   "outputs": [
    {
     "name": "stdout",
     "output_type": "stream",
     "text": [
      "0.0\n",
      "nan\n",
      "2.26908\n",
      "2.64594\n"
     ]
    }
   ],
   "source": [
    "# calculate MMD for tissue 1\n",
    "sample1_target = K.cast(sample1_target_train, 'float32')\n",
    "xx1 = kernel(source1.astype('float32'), source1.astype('float32'), weights, scales)\n",
    "xy1 = kernel(source1.astype('float32'), sample1_target, weights, scales)\n",
    "yy1 = kernel(sample1_target, sample1_target, weights, scales)\n",
    "MMD1 = K.mean(xx1) - 2*K.mean(xy1) + K.mean(yy1)\n",
    "\n",
    "# calculate MMD for tissue 2\n",
    "sample2_target = K.cast(sample2_target_train, 'float32')\n",
    "xx2 = kernel(source2.astype('float32'), source2.astype('float32'), weights, scales)\n",
    "xy2 = kernel(source2.astype('float32'), sample2_target, weights, scales)\n",
    "yy2 = kernel(sample2_target, sample2_target, weights, scales)\n",
    "MMD2 = K.mean(xx2) - 2*K.mean(xy2) + K.mean(yy2)\n",
    "\n",
    "# calculate MMD for tissue 3\n",
    "sample3_target = K.cast(sample3_target_train, 'float32')\n",
    "xx3 = kernel(source3.astype('float32'), source3.astype('float32'), weights, scales)\n",
    "xy3 = kernel(source3.astype('float32'), sample3_target, weights, scales)\n",
    "yy3 = kernel(sample3_target, sample3_target, weights, scales)\n",
    "MMD3 = K.mean(xx3) - 2*K.mean(xy3) + K.mean(yy3)\n",
    "print(np.nan_to_num(K.eval(MMD1)))\n",
    "print(K.eval(MMD1))\n",
    "print(K.eval(MMD2))\n",
    "print(K.eval(MMD3))"
   ]
  },
  {
   "cell_type": "code",
   "execution_count": null,
   "metadata": {},
   "outputs": [],
   "source": []
  },
  {
   "cell_type": "code",
   "execution_count": null,
   "metadata": {
    "scrolled": true
   },
   "outputs": [],
   "source": [
    "rnaNet.init_res_net()"
   ]
  },
  {
   "cell_type": "code",
   "execution_count": null,
   "metadata": {
    "scrolled": true
   },
   "outputs": [],
   "source": [
    "# callbacks=[rnaNet.lrate, cb.EarlyStopping(monitor='val_loss', patience=100, mode='auto')]\n",
    "# rnaNet.train(epochs=1000, callbacks=callbacks)"
   ]
  },
  {
   "cell_type": "code",
   "execution_count": null,
   "metadata": {},
   "outputs": [],
   "source": [
    "# from plots import scatter_plot, heatmap\n",
    "# rnaNet.pca()\n",
    "# %matplotlib inline"
   ]
  },
  {
   "cell_type": "code",
   "execution_count": null,
   "metadata": {
    "scrolled": true
   },
   "outputs": [],
   "source": [
    "# scatter_plot(rnaNet.source_pca_df, rnaNet.target_pca_df, title=\"before\")\n",
    "# scatter_plot(rnaNet.calibrated_source_pca_df, rnaNet.target_pca_df, title=\"after\")"
   ]
  },
  {
   "cell_type": "code",
   "execution_count": null,
   "metadata": {
    "scrolled": false
   },
   "outputs": [],
   "source": [
    "# heatmap(rnaNet.source_df, rnaNet.target_df, title=\"before\")\n",
    "# heatmap(rnaNet.calibrated_source_df, rnaNet.target_df, title=\"after\")"
   ]
  },
  {
   "cell_type": "code",
   "execution_count": null,
   "metadata": {},
   "outputs": [],
   "source": [
    "# import CostFunctions as cf\n",
    "# from keras import backend as K\n",
    "\n",
    "# source = rnaNet.source.astype('float32')\n",
    "# target = rnaNet.target.astype('float32')\n",
    "# calibrated_source = rnaNet.calibrated_source.astype('float32')\n",
    "\n",
    "# mmd = cf.MMD(source, target, MMDTargetSampleSize=target.shape[0], n_neighbors=10)\n",
    "# mmd_before = K.eval(mmd.cost(source, target))\n",
    "# mmd_after = K.eval(mmd.cost(calibrated_source, target))\n",
    "\n",
    "# print(\"MMD before: %0.10f\" % mmd_before)\n",
    "# print(\"MMD after: %0.10f\" % mmd_after)"
   ]
  },
  {
   "cell_type": "code",
   "execution_count": null,
   "metadata": {},
   "outputs": [],
   "source": [
    "# save_file = 'calibrated-unnorm-log-20PC-GTEX-breast-prostate-thyroid.csv'\n",
    "# save_path = os.path.join(io.DeepLearningRoot(), 'data/unnorm/breast-prostate-thyroid/' + save_file)\n",
    "\n",
    "# rnaNet.save_calibrated(path=save_path)"
   ]
  }
 ],
 "metadata": {
  "kernelspec": {
   "display_name": "Environment (conda_tensorflow_p36)",
   "language": "python",
   "name": "conda_tensorflow_p36"
  },
  "language_info": {
   "codemirror_mode": {
    "name": "ipython",
    "version": 3
   },
   "file_extension": ".py",
   "mimetype": "text/x-python",
   "name": "python",
   "nbconvert_exporter": "python",
   "pygments_lexer": "ipython3",
   "version": "3.6.3"
  }
 },
 "nbformat": 4,
 "nbformat_minor": 2
}
