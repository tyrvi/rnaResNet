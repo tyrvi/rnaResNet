{
 "cells": [
  {
   "cell_type": "code",
   "execution_count": 1,
   "metadata": {},
   "outputs": [
    {
     "name": "stderr",
     "output_type": "stream",
     "text": [
      "Using TensorFlow backend.\n",
      "/home/ubuntu/anaconda3/envs/tensorflow_p36/lib/python3.6/importlib/_bootstrap.py:219: RuntimeWarning: compiletime version 3.5 of module 'tensorflow.python.framework.fast_tensor_util' does not match runtime version 3.6\n",
      "  return f(*args, **kwds)\n",
      "/home/ubuntu/anaconda3/envs/tensorflow_p36/lib/python3.6/site-packages/sklearn/cross_validation.py:41: DeprecationWarning: This module was deprecated in version 0.18 in favor of the model_selection module into which all the refactored classes and functions are moved. Also note that the interface of the new CV iterators are different from that of this module. This module will be removed in 0.20.\n",
      "  \"This module will be removed in 0.20.\", DeprecationWarning)\n"
     ]
    }
   ],
   "source": [
    "#from train_RNA_ResNet import ResNet\n",
    "from keras import callbacks as cb\n",
    "from Calibration_Util import FileIO as io\n",
    "import os\n",
    "import numpy as np\n",
    "import pandas as pd\n",
    "import CostFunctions as cf\n",
    "from keras import backend as K"
   ]
  },
  {
   "cell_type": "markdown",
   "metadata": {},
   "source": [
    "### MMD PC ComBat"
   ]
  },
  {
   "cell_type": "code",
   "execution_count": 2,
   "metadata": {},
   "outputs": [],
   "source": [
    "source_file = 'unnorm-log-20PC-GTEX-breast-prostate-thyroid.csv'\n",
    "target_file = 'unnorm-log-20PC-TCGA-breast-prostate-thyroid.csv'\n",
    "source_path = os.path.join(io.DeepLearningRoot(), 'data/unnorm/breast-prostate-thyroid/' + source_file)\n",
    "target_path = os.path.join(io.DeepLearningRoot(), 'data/unnorm/breast-prostate-thyroid/' + target_file)\n",
    "\n",
    "source_before_pc_df = pd.read_csv(source_path, sep=',', header=0, index_col=0)\n",
    "target_before_pc_df = pd.read_csv(target_path, sep=',', header=0, index_col=0)\n",
    "\n",
    "source_before_pc = source_before_pc_df.loc[:, \"PC1\":].values.astype('float32')\n",
    "target_before_pc = target_before_pc_df.loc[:, \"PC1\":].values.astype('float32')"
   ]
  },
  {
   "cell_type": "code",
   "execution_count": 3,
   "metadata": {},
   "outputs": [],
   "source": [
    "folder = 'data/unnorm/combat/'\n",
    "\n",
    "source_file = 'unnorm-combat-PC-GTEX-breast-prostate-thyroid.csv'\n",
    "target_file = 'unnorm-combat-PC-TCGA-breast-prostate-thyroid.csv'\n",
    "source_path = os.path.join(io.DeepLearningRoot(), folder + source_file)\n",
    "target_path = os.path.join(io.DeepLearningRoot(), folder + target_file)\n",
    "\n",
    "source_after_pc_df = pd.read_csv(source_path, sep=',', header=0, index_col=0)\n",
    "target_after_pc_df = pd.read_csv(target_path, sep=',', header=0, index_col=0)\n",
    "\n",
    "source_after_pc = source_after_pc_df.loc[:, \"PC1\":].values.astype('float32')\n",
    "target_after_pc = target_after_pc_df.loc[:, \"PC1\":].values.astype('float32')"
   ]
  },
  {
   "cell_type": "code",
   "execution_count": 4,
   "metadata": {
    "scrolled": true
   },
   "outputs": [
    {
     "name": "stdout",
     "output_type": "stream",
     "text": [
      "setting scales using KNN\n",
      "[20.773371630470059, 41.546743260940119, 83.093486521880237]\n",
      "setting all scale weights to 1\n",
      "setting scales using KNN\n",
      "[19.796086942694032, 39.592173885388064, 79.184347770776128]\n",
      "setting all scale weights to 1\n"
     ]
    }
   ],
   "source": [
    "mmd = cf.MMD(source_before_pc, target_before_pc, MMDTargetSampleSize=target_before_pc.shape[0], n_neighbors=10)\n",
    "mmd_before_pc = K.eval(mmd.cost(source_before_pc, target_before_pc))\n",
    "\n",
    "mmd = cf.MMD(source_after_pc, target_after_pc, MMDTargetSampleSize=target_after_pc.shape[0], n_neighbors=10)\n",
    "mmd_after_pc = K.eval(mmd.cost(source_after_pc, target_after_pc))"
   ]
  },
  {
   "cell_type": "code",
   "execution_count": 5,
   "metadata": {},
   "outputs": [
    {
     "name": "stdout",
     "output_type": "stream",
     "text": [
      "MMD before: 0.9616981149\n",
      "MMD after: 0.7404037714\n"
     ]
    }
   ],
   "source": [
    "print(\"MMD before: %0.10f\" % mmd_before_pc)\n",
    "print(\"MMD after: %0.10f\" % mmd_after_pc)"
   ]
  },
  {
   "cell_type": "markdown",
   "metadata": {},
   "source": [
    "### MMD 6 PC"
   ]
  },
  {
   "cell_type": "code",
   "execution_count": 6,
   "metadata": {},
   "outputs": [],
   "source": [
    "source_file = 'unnorm-log-20PC-GTEX-breast-prostate-thyroid.csv'\n",
    "target_file = 'unnorm-log-20PC-TCGA-breast-prostate-thyroid.csv'\n",
    "source_path = os.path.join(io.DeepLearningRoot(), 'data/unnorm/breast-prostate-thyroid/' + source_file)\n",
    "target_path = os.path.join(io.DeepLearningRoot(), 'data/unnorm/breast-prostate-thyroid/' + target_file)\n",
    "\n",
    "source_before_pc_df = pd.read_csv(source_path, sep=',', header=0, index_col=0)\n",
    "target_before_pc_df = pd.read_csv(target_path, sep=',', header=0, index_col=0)\n",
    "\n",
    "source_before_pc = source_before_pc_df.loc[:, \"PC1\":\"PC6\"].values.astype('float32')\n",
    "target_before_pc = target_before_pc_df.loc[:, \"PC1\":\"PC6\"].values.astype('float32')"
   ]
  },
  {
   "cell_type": "code",
   "execution_count": 7,
   "metadata": {},
   "outputs": [],
   "source": [
    "folder = 'data/unnorm/combat/'\n",
    "\n",
    "source_file = 'unnorm-combat-PC-GTEX-breast-prostate-thyroid.csv'\n",
    "target_file = 'unnorm-combat-PC-TCGA-breast-prostate-thyroid.csv'\n",
    "source_path = os.path.join(io.DeepLearningRoot(), folder + source_file)\n",
    "target_path = os.path.join(io.DeepLearningRoot(), folder + target_file)\n",
    "\n",
    "source_after_pc_df = pd.read_csv(source_path, sep=',', header=0, index_col=0)\n",
    "target_after_pc_df = pd.read_csv(target_path, sep=',', header=0, index_col=0)\n",
    "\n",
    "source_after_pc = source_after_pc_df.loc[:, \"PC1\":\"PC6\"].values.astype('float32')\n",
    "target_after_pc = target_after_pc_df.loc[:, \"PC1\":\"PC6\"].values.astype('float32')"
   ]
  },
  {
   "cell_type": "code",
   "execution_count": 8,
   "metadata": {
    "scrolled": true
   },
   "outputs": [
    {
     "name": "stdout",
     "output_type": "stream",
     "text": [
      "setting scales using KNN\n",
      "[9.0662320705223785, 18.132464141044757, 36.264928282089514]\n",
      "setting all scale weights to 1\n",
      "setting scales using KNN\n",
      "[8.9019231564799242, 17.803846312959848, 35.607692625919697]\n",
      "setting all scale weights to 1\n"
     ]
    }
   ],
   "source": [
    "mmd = cf.MMD(source_before_pc, target_before_pc, MMDTargetSampleSize=target_before_pc.shape[0], n_neighbors=10)\n",
    "mmd_before_pc = K.eval(mmd.cost(source_before_pc, target_before_pc))\n",
    "\n",
    "mmd = cf.MMD(source_after_pc, target_after_pc, MMDTargetSampleSize=target_after_pc.shape[0], n_neighbors=10)\n",
    "mmd_after_pc = K.eval(mmd.cost(source_after_pc, target_after_pc))"
   ]
  },
  {
   "cell_type": "code",
   "execution_count": 9,
   "metadata": {},
   "outputs": [
    {
     "name": "stdout",
     "output_type": "stream",
     "text": [
      "MMD before: 0.8607929945\n",
      "MMD after: 0.7614580393\n"
     ]
    }
   ],
   "source": [
    "print(\"MMD before: %0.10f\" % mmd_before_pc)\n",
    "print(\"MMD after: %0.10f\" % mmd_after_pc)"
   ]
  },
  {
   "cell_type": "markdown",
   "metadata": {},
   "source": [
    "### MMD No PC ComBat"
   ]
  },
  {
   "cell_type": "code",
   "execution_count": null,
   "metadata": {},
   "outputs": [],
   "source": [
    "folder = 'data/unnorm/combat/'\n",
    "\n",
    "source_file = 'unnorm-GTEX-breast-prostate-thyroid.csv'\n",
    "target_file = 'unnorm-TCGA-breast-prostate-thyroid.csv'\n",
    "source_path = os.path.join(io.DeepLearningRoot(), folder + source_file)\n",
    "target_path = os.path.join(io.DeepLearningRoot(), folder + target_file)\n",
    "\n",
    "source_before_df = pd.read_csv(source_path, sep=',', header=0, index_col=0)\n",
    "target_before_df = pd.read_csv(target_path, sep=',', header=0, index_col=0)\n",
    "\n",
    "source_before = source_before_df.values.astype('float32')\n",
    "target_before = target_before_df.values.astype('float32')"
   ]
  },
  {
   "cell_type": "code",
   "execution_count": null,
   "metadata": {},
   "outputs": [],
   "source": [
    "source_file = 'unnorm-combat-GTEX-breast-prostate-thyroid.csv'\n",
    "target_file = 'unnorm-combat-TCGA-breast-prostate-thyroid.csv'\n",
    "source_path = os.path.join(io.DeepLearningRoot(), folder + source_file)\n",
    "target_path = os.path.join(io.DeepLearningRoot(), folder + target_file)\n",
    "\n",
    "source_after_df = pd.read_csv(source_path, sep=',', header=0, index_col=0)\n",
    "target_after_df = pd.read_csv(target_path, sep=',', header=0, index_col=0)\n",
    "\n",
    "source_after = source_after_df.values.astype('float32')\n",
    "target_after = source_after_df.values.astype('float32')"
   ]
  },
  {
   "cell_type": "markdown",
   "metadata": {},
   "source": [
    "transpose values for calculating MMD"
   ]
  },
  {
   "cell_type": "code",
   "execution_count": null,
   "metadata": {},
   "outputs": [],
   "source": [
    "source_before = np.transpose(source_before)\n",
    "target_before = np.transpose(target_before)\n",
    "source_after = np.transpose(source_after)\n",
    "target_after = np.transpose(target_after)\n",
    "\n",
    "mmd = cf.MMD(source_before, target_before, MMDTargetSampleSize=target_before.shape[0], n_neighbors=10)\n",
    "mmd_before = K.eval(mmd.cost(source_before, target_before))\n",
    "\n",
    "mmd = cf.MMD(source_after, target_after, MMDTargetSampleSize=target_after.shape[0], n_neighbors=10)\n",
    "mmd_after = K.eval(mmd.cost(source_after, target_after))"
   ]
  },
  {
   "cell_type": "code",
   "execution_count": null,
   "metadata": {},
   "outputs": [],
   "source": [
    "print(\"MMD before: %0.10f\" % mmd_before)\n",
    "print(\"MMD after: %0.10f\" % mmd_after)"
   ]
  }
 ],
 "metadata": {
  "kernelspec": {
   "display_name": "Python 3",
   "language": "python",
   "name": "python3"
  },
  "language_info": {
   "codemirror_mode": {
    "name": "ipython",
    "version": 3
   },
   "file_extension": ".py",
   "mimetype": "text/x-python",
   "name": "python",
   "nbconvert_exporter": "python",
   "pygments_lexer": "ipython3",
   "version": "3.6.6"
  }
 },
 "nbformat": 4,
 "nbformat_minor": 2
}
